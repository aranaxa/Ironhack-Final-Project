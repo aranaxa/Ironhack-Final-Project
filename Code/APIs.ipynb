{
 "cells": [
  {
   "cell_type": "markdown",
   "id": "31ad9fac",
   "metadata": {},
   "source": [
    "# Libraries"
   ]
  },
  {
   "cell_type": "code",
   "execution_count": 142,
   "id": "2dd4f237",
   "metadata": {},
   "outputs": [],
   "source": [
    "# General\n",
    "import requests\n",
    "from tqdm.notebook import tqdm\n",
    "\n",
    "# APIs\n",
    "import getpass\n",
    "import json\n",
    "import csv\n",
    "import pandas as pd\n",
    "import numpy as np"
   ]
  },
  {
   "cell_type": "markdown",
   "id": "5ac13bb3",
   "metadata": {},
   "source": [
    "# IMDb API"
   ]
  },
  {
   "cell_type": "code",
   "execution_count": 102,
   "id": "fceb42d0",
   "metadata": {},
   "outputs": [
    {
     "name": "stdout",
     "output_type": "stream",
     "text": [
      "API Key: ········\n"
     ]
    }
   ],
   "source": [
    "# Store API key\n",
    "rapidapi_key = str(getpass.getpass(\"API Key: \"))"
   ]
  },
  {
   "cell_type": "code",
   "execution_count": 103,
   "id": "47aa26fa",
   "metadata": {},
   "outputs": [
    {
     "data": {
      "text/plain": [
       "{'Title': 'Avengers: Endgame',\n",
       " 'Year': '2019',\n",
       " 'Rated': 'PG-13',\n",
       " 'Released': '26 Apr 2019',\n",
       " 'Runtime': '181 min',\n",
       " 'Genre': 'Action, Adventure, Drama',\n",
       " 'Director': 'Anthony Russo, Joe Russo',\n",
       " 'Writer': 'Christopher Markus, Stephen McFeely, Stan Lee',\n",
       " 'Actors': 'Robert Downey Jr., Chris Evans, Mark Ruffalo',\n",
       " 'Plot': \"After the devastating events of Avengers: Infinity War (2018), the universe is in ruins. With the help of remaining allies, the Avengers assemble once more in order to reverse Thanos' actions and restore balance to the universe.\",\n",
       " 'Language': 'English, Japanese, Xhosa, German',\n",
       " 'Country': 'United States',\n",
       " 'Awards': 'Nominated for 1 Oscar. 69 wins & 114 nominations total',\n",
       " 'Poster': 'https://m.media-amazon.com/images/M/MV5BMTc5MDE2ODcwNV5BMl5BanBnXkFtZTgwMzI2NzQ2NzM@._V1_SX300.jpg',\n",
       " 'Ratings': [{'Source': 'Internet Movie Database', 'Value': '8.4/10'},\n",
       "  {'Source': 'Rotten Tomatoes', 'Value': '94%'},\n",
       "  {'Source': 'Metacritic', 'Value': '78/100'}],\n",
       " 'Metascore': '78',\n",
       " 'imdbRating': '8.4',\n",
       " 'imdbVotes': '902,111',\n",
       " 'imdbID': 'tt4154796',\n",
       " 'Type': 'movie',\n",
       " 'DVD': '30 Jul 2019',\n",
       " 'BoxOffice': '$858,373,000',\n",
       " 'Production': 'Walt Disney Pictures, Marvel Studios',\n",
       " 'Website': 'N/A',\n",
       " 'Response': 'True'}"
      ]
     },
     "execution_count": 103,
     "metadata": {},
     "output_type": "execute_result"
    }
   ],
   "source": [
    "# Test API\n",
    "url = \"https://movie-database-imdb-alternative.p.rapidapi.com/\"\n",
    "querystring = {\"i\":\"tt4154796\",\"r\":\"json\"}\n",
    "headers = {\n",
    "    'x-rapidapi-key': rapidapi_key,\n",
    "    'x-rapidapi-host': \"movie-database-imdb-alternative.p.rapidapi.com\"\n",
    "    }\n",
    "\n",
    "response = requests.request(\"GET\", url, headers=headers, params=querystring)\n",
    "response.json()"
   ]
  },
  {
   "cell_type": "code",
   "execution_count": 82,
   "id": "e52d1579",
   "metadata": {},
   "outputs": [],
   "source": [
    "# Function to request details for each ID\n",
    "def imdb_api_1(ids):\n",
    "    details = []\n",
    "    url = \"https://movie-database-imdb-alternative.p.rapidapi.com/\"\n",
    "    headers = {\n",
    "        'x-rapidapi-key': rapidapi_key,\n",
    "        'x-rapidapi-host': \"movie-database-imdb-alternative.p.rapidapi.com\"\n",
    "        }\n",
    "    \n",
    "    for id in tqdm(ids):\n",
    "        querystring = {\"i\": id,\"r\": \"json\"}\n",
    "        response = requests.request(\"GET\", url, headers=headers, params=querystring)\n",
    "        details.append(response.json())\n",
    "    \n",
    "    return details"
   ]
  },
  {
   "cell_type": "code",
   "execution_count": 83,
   "id": "14ca7a6e",
   "metadata": {
    "scrolled": true
   },
   "outputs": [
    {
     "data": {
      "application/vnd.jupyter.widget-view+json": {
       "model_id": "9c553eceba2b4d85861022367b0d2fa1",
       "version_major": 2,
       "version_minor": 0
      },
      "text/plain": [
       "  0%|          | 0/21993 [00:00<?, ?it/s]"
      ]
     },
     "metadata": {},
     "output_type": "display_data"
    }
   ],
   "source": [
    "imdb_1 = imdb_api_1(ids)"
   ]
  },
  {
   "cell_type": "code",
   "execution_count": 115,
   "id": "47e30d12",
   "metadata": {},
   "outputs": [],
   "source": [
    "# Save as JSON\n",
    "with open(\"imdb_1.json\", \"w\") as fp:\n",
    "    json.dump(imdb_1, fp)"
   ]
  },
  {
   "cell_type": "code",
   "execution_count": 84,
   "id": "06b086a1",
   "metadata": {},
   "outputs": [
    {
     "data": {
      "text/html": [
       "<div>\n",
       "<style scoped>\n",
       "    .dataframe tbody tr th:only-of-type {\n",
       "        vertical-align: middle;\n",
       "    }\n",
       "\n",
       "    .dataframe tbody tr th {\n",
       "        vertical-align: top;\n",
       "    }\n",
       "\n",
       "    .dataframe thead th {\n",
       "        text-align: right;\n",
       "    }\n",
       "</style>\n",
       "<table border=\"1\" class=\"dataframe\">\n",
       "  <thead>\n",
       "    <tr style=\"text-align: right;\">\n",
       "      <th></th>\n",
       "      <th>Title</th>\n",
       "      <th>Year</th>\n",
       "      <th>Rated</th>\n",
       "      <th>Released</th>\n",
       "      <th>Runtime</th>\n",
       "      <th>Genre</th>\n",
       "      <th>Director</th>\n",
       "      <th>Writer</th>\n",
       "      <th>Actors</th>\n",
       "      <th>Plot</th>\n",
       "      <th>...</th>\n",
       "      <th>Metascore</th>\n",
       "      <th>imdbRating</th>\n",
       "      <th>imdbVotes</th>\n",
       "      <th>imdbID</th>\n",
       "      <th>Type</th>\n",
       "      <th>DVD</th>\n",
       "      <th>BoxOffice</th>\n",
       "      <th>Production</th>\n",
       "      <th>Website</th>\n",
       "      <th>Response</th>\n",
       "    </tr>\n",
       "  </thead>\n",
       "  <tbody>\n",
       "    <tr>\n",
       "      <th>0</th>\n",
       "      <td>The Three Musketeers</td>\n",
       "      <td>1948</td>\n",
       "      <td>Not Rated</td>\n",
       "      <td>20 Oct 1948</td>\n",
       "      <td>125 min</td>\n",
       "      <td>Action, Adventure, Drama</td>\n",
       "      <td>George Sidney</td>\n",
       "      <td>Alexandre Dumas, Robert Ardrey</td>\n",
       "      <td>Lana Turner, Gene Kelly, June Allyson</td>\n",
       "      <td>D'Artagnan (Gene Kelly) and his Musketeer comr...</td>\n",
       "      <td>...</td>\n",
       "      <td>N/A</td>\n",
       "      <td>7.2</td>\n",
       "      <td>5,800</td>\n",
       "      <td>tt0040876</td>\n",
       "      <td>movie</td>\n",
       "      <td>08 May 2015</td>\n",
       "      <td>N/A</td>\n",
       "      <td>Metro-Goldwyn-Mayer</td>\n",
       "      <td>N/A</td>\n",
       "      <td>True</td>\n",
       "    </tr>\n",
       "    <tr>\n",
       "      <th>1</th>\n",
       "      <td>The Ninth Gate</td>\n",
       "      <td>1999</td>\n",
       "      <td>R</td>\n",
       "      <td>10 Mar 2000</td>\n",
       "      <td>133 min</td>\n",
       "      <td>Mystery, Thriller</td>\n",
       "      <td>Roman Polanski</td>\n",
       "      <td>Arturo Pérez-Reverte, John Brownjohn, Enrique ...</td>\n",
       "      <td>Johnny Depp, Frank Langella, Lena Olin</td>\n",
       "      <td>A rare book dealer, while seeking out the last...</td>\n",
       "      <td>...</td>\n",
       "      <td>44</td>\n",
       "      <td>6.7</td>\n",
       "      <td>171,832</td>\n",
       "      <td>tt0142688</td>\n",
       "      <td>movie</td>\n",
       "      <td>26 Aug 2016</td>\n",
       "      <td>$18,661,336</td>\n",
       "      <td>Araba Films, Bac Films, Kino Vision, Via Digit...</td>\n",
       "      <td>N/A</td>\n",
       "      <td>True</td>\n",
       "    </tr>\n",
       "    <tr>\n",
       "      <th>2</th>\n",
       "      <td>Kaadhal Konden</td>\n",
       "      <td>2003</td>\n",
       "      <td>Not Rated</td>\n",
       "      <td>N/A</td>\n",
       "      <td>150 min</td>\n",
       "      <td>Drama, Romance, Thriller</td>\n",
       "      <td>K. Selvaraghavan</td>\n",
       "      <td>N/A</td>\n",
       "      <td>Dhanush, Sonia Agarwal, Sudip</td>\n",
       "      <td>Exploring into the mind of a youth who is ment...</td>\n",
       "      <td>...</td>\n",
       "      <td>N/A</td>\n",
       "      <td>7.9</td>\n",
       "      <td>1,979</td>\n",
       "      <td>tt0375880</td>\n",
       "      <td>movie</td>\n",
       "      <td>N/A</td>\n",
       "      <td>N/A</td>\n",
       "      <td>N/A</td>\n",
       "      <td>N/A</td>\n",
       "      <td>True</td>\n",
       "    </tr>\n",
       "    <tr>\n",
       "      <th>3</th>\n",
       "      <td>The Black Pirate</td>\n",
       "      <td>1926</td>\n",
       "      <td>Not Rated</td>\n",
       "      <td>08 Mar 1926</td>\n",
       "      <td>88 min</td>\n",
       "      <td>Adventure, Action</td>\n",
       "      <td>Albert Parker</td>\n",
       "      <td>Douglas Fairbanks, Jack Cunningham</td>\n",
       "      <td>Douglas Fairbanks, Billie Dove, Tempe Pigott</td>\n",
       "      <td>Seeking revenge, an athletic young man joins t...</td>\n",
       "      <td>...</td>\n",
       "      <td>N/A</td>\n",
       "      <td>7.1</td>\n",
       "      <td>1,742</td>\n",
       "      <td>tt0016654</td>\n",
       "      <td>movie</td>\n",
       "      <td>N/A</td>\n",
       "      <td>N/A</td>\n",
       "      <td>Elton Corporation</td>\n",
       "      <td>N/A</td>\n",
       "      <td>True</td>\n",
       "    </tr>\n",
       "    <tr>\n",
       "      <th>4</th>\n",
       "      <td>While You Were Sleeping</td>\n",
       "      <td>1995</td>\n",
       "      <td>PG</td>\n",
       "      <td>21 Apr 1995</td>\n",
       "      <td>103 min</td>\n",
       "      <td>Comedy, Drama, Romance</td>\n",
       "      <td>Jon Turteltaub</td>\n",
       "      <td>Daniel G. Sullivan, Fredric Lebow</td>\n",
       "      <td>Sandra Bullock, Bill Pullman, Peter Gallagher</td>\n",
       "      <td>A hopelessly romantic Chicago Transit Authorit...</td>\n",
       "      <td>...</td>\n",
       "      <td>67</td>\n",
       "      <td>6.7</td>\n",
       "      <td>94,806</td>\n",
       "      <td>tt0114924</td>\n",
       "      <td>movie</td>\n",
       "      <td>10 Aug 2016</td>\n",
       "      <td>$81,057,016</td>\n",
       "      <td>Hollywood Pictures, Caravan Pictures</td>\n",
       "      <td>N/A</td>\n",
       "      <td>True</td>\n",
       "    </tr>\n",
       "  </tbody>\n",
       "</table>\n",
       "<p>5 rows × 25 columns</p>\n",
       "</div>"
      ],
      "text/plain": [
       "                     Title  Year      Rated     Released  Runtime  \\\n",
       "0     The Three Musketeers  1948  Not Rated  20 Oct 1948  125 min   \n",
       "1           The Ninth Gate  1999          R  10 Mar 2000  133 min   \n",
       "2           Kaadhal Konden  2003  Not Rated          N/A  150 min   \n",
       "3         The Black Pirate  1926  Not Rated  08 Mar 1926   88 min   \n",
       "4  While You Were Sleeping  1995         PG  21 Apr 1995  103 min   \n",
       "\n",
       "                      Genre          Director  \\\n",
       "0  Action, Adventure, Drama     George Sidney   \n",
       "1         Mystery, Thriller    Roman Polanski   \n",
       "2  Drama, Romance, Thriller  K. Selvaraghavan   \n",
       "3         Adventure, Action     Albert Parker   \n",
       "4    Comedy, Drama, Romance    Jon Turteltaub   \n",
       "\n",
       "                                              Writer  \\\n",
       "0                     Alexandre Dumas, Robert Ardrey   \n",
       "1  Arturo Pérez-Reverte, John Brownjohn, Enrique ...   \n",
       "2                                                N/A   \n",
       "3                 Douglas Fairbanks, Jack Cunningham   \n",
       "4                  Daniel G. Sullivan, Fredric Lebow   \n",
       "\n",
       "                                          Actors  \\\n",
       "0          Lana Turner, Gene Kelly, June Allyson   \n",
       "1         Johnny Depp, Frank Langella, Lena Olin   \n",
       "2                  Dhanush, Sonia Agarwal, Sudip   \n",
       "3   Douglas Fairbanks, Billie Dove, Tempe Pigott   \n",
       "4  Sandra Bullock, Bill Pullman, Peter Gallagher   \n",
       "\n",
       "                                                Plot  ... Metascore  \\\n",
       "0  D'Artagnan (Gene Kelly) and his Musketeer comr...  ...       N/A   \n",
       "1  A rare book dealer, while seeking out the last...  ...        44   \n",
       "2  Exploring into the mind of a youth who is ment...  ...       N/A   \n",
       "3  Seeking revenge, an athletic young man joins t...  ...       N/A   \n",
       "4  A hopelessly romantic Chicago Transit Authorit...  ...        67   \n",
       "\n",
       "  imdbRating imdbVotes     imdbID   Type          DVD    BoxOffice  \\\n",
       "0        7.2     5,800  tt0040876  movie  08 May 2015          N/A   \n",
       "1        6.7   171,832  tt0142688  movie  26 Aug 2016  $18,661,336   \n",
       "2        7.9     1,979  tt0375880  movie          N/A          N/A   \n",
       "3        7.1     1,742  tt0016654  movie          N/A          N/A   \n",
       "4        6.7    94,806  tt0114924  movie  10 Aug 2016  $81,057,016   \n",
       "\n",
       "                                          Production Website Response  \n",
       "0                                Metro-Goldwyn-Mayer     N/A     True  \n",
       "1  Araba Films, Bac Films, Kino Vision, Via Digit...     N/A     True  \n",
       "2                                                N/A     N/A     True  \n",
       "3                                  Elton Corporation     N/A     True  \n",
       "4               Hollywood Pictures, Caravan Pictures     N/A     True  \n",
       "\n",
       "[5 rows x 25 columns]"
      ]
     },
     "execution_count": 84,
     "metadata": {},
     "output_type": "execute_result"
    }
   ],
   "source": [
    "# Create dataframe\n",
    "df = pd.json_normalize(imdb_1)\n",
    "df.head()"
   ]
  },
  {
   "cell_type": "code",
   "execution_count": 88,
   "id": "b8bddda1",
   "metadata": {},
   "outputs": [],
   "source": [
    "# Export as CSV\n",
    "df.to_csv(\"imdb_1.csv\", index=False)"
   ]
  },
  {
   "cell_type": "code",
   "execution_count": 98,
   "id": "243d06ab",
   "metadata": {},
   "outputs": [
    {
     "data": {
      "text/plain": [
       "N/A                                      8053\n",
       "Metro-Goldwyn-Mayer                       286\n",
       "Paramount Pictures                        226\n",
       "Warner Brothers/Seven Arts                201\n",
       "Twentieth Century Fox                     189\n",
       "Columbia Pictures Corporation             184\n",
       "Universal Pictures                        169\n",
       "Paramount                                 150\n",
       "Warner Bros.                              150\n",
       "Metro Goldwyn Mayer                       142\n",
       "20th Century Fox                          116\n",
       "Universal/Universal Int                   114\n",
       "RKO Radio Pictures Inc.                   107\n",
       "Miramax                                    87\n",
       "Warner Brothers                            86\n",
       "United Artists                             74\n",
       "Columbia                                   64\n",
       "Walt Disney Pictures                       52\n",
       "Walt Disney Productions                    49\n",
       "Touchstone Pictures                        46\n",
       "New Line Cinema                            44\n",
       "Mosfilm                                    39\n",
       "Orion Pictures                             38\n",
       "RKO Pictures                               37\n",
       "Universal International Pictures           36\n",
       "Toho Company Ltd.                          33\n",
       "Columbia Pictures                          32\n",
       "TriStar Pictures                           27\n",
       "Zentropa Entertainments                    25\n",
       "Svensk Filmindustri                        24\n",
       "Working Title Films                        23\n",
       "Yash Raj Films                             22\n",
       "RAI Cinema                                 21\n",
       "Tornasol Films S.A.                        21\n",
       "Samuel Goldwyn Company                     20\n",
       "Nordisk Film                               19\n",
       "Miramax Films                              19\n",
       "Medusa Film                                19\n",
       "American International Pictures (AIP)      19\n",
       "First National Pictures                    18\n",
       "Gaumont                                    18\n",
       "Shaw Brothers                              18\n",
       "Malpaso Company                            18\n",
       "PolyGram Filmed Entertainment              17\n",
       "Metro Goldwyn Mayer, Loew&#39;s Inc.       17\n",
       "Hal Roach Studios Inc.                     16\n",
       "Columbia, TriStar Pictures                 16\n",
       "DreamWorks Animation                       16\n",
       "Cecchi Gori Group Tiger Cinema             15\n",
       "Marvel Studios                             14\n",
       "Name: Production, dtype: int64"
      ]
     },
     "execution_count": 98,
     "metadata": {},
     "output_type": "execute_result"
    }
   ],
   "source": [
    "df[\"Production\"].value_counts().nlargest(50)"
   ]
  },
  {
   "cell_type": "markdown",
   "id": "a93ae5f2",
   "metadata": {},
   "source": [
    "# TMDb API"
   ]
  },
  {
   "cell_type": "code",
   "execution_count": 392,
   "id": "75eb030d",
   "metadata": {},
   "outputs": [
    {
     "name": "stdout",
     "output_type": "stream",
     "text": [
      "API Key: ········\n"
     ]
    }
   ],
   "source": [
    "# Store API key\n",
    "tmdb_api_key = str(getpass.getpass(\"API Key: \"))"
   ]
  },
  {
   "cell_type": "code",
   "execution_count": 105,
   "id": "ccc26915",
   "metadata": {},
   "outputs": [
    {
     "data": {
      "text/plain": [
       "{'movie_results': [{'adult': False,\n",
       "   'backdrop_path': '/oq5cf8FK7zAUtdcYuNImJfSYBbf.jpg',\n",
       "   'genre_ids': [28, 12, 18, 10749],\n",
       "   'id': 41609,\n",
       "   'original_language': 'en',\n",
       "   'original_title': 'The Three Musketeers',\n",
       "   'overview': \"Athletic adaptation of Alexandre Dumas' classic adventure about the king's musketeers and their mission to protect France.\",\n",
       "   'poster_path': '/gkkKenOTD5Lx8DFxvosozot6p0f.jpg',\n",
       "   'release_date': '1948-10-19',\n",
       "   'title': 'The Three Musketeers',\n",
       "   'video': False,\n",
       "   'vote_average': 6.5,\n",
       "   'vote_count': 89,\n",
       "   'popularity': 5.384}],\n",
       " 'person_results': [],\n",
       " 'tv_results': [],\n",
       " 'tv_episode_results': [],\n",
       " 'tv_season_results': []}"
      ]
     },
     "execution_count": 105,
     "metadata": {},
     "output_type": "execute_result"
    }
   ],
   "source": [
    "# Test API\n",
    "url = f\"https://api.themoviedb.org/3/find/{ids[0]}\"\n",
    "querystring = {\n",
    "    \"api_key\": tmdb_api_key,\n",
    "    \"language\": \"en-US\",\n",
    "    \"external_source\": \"imdb_id\"\n",
    "    }\n",
    "\n",
    "response = requests.request(\"GET\", url, params=querystring)\n",
    "response.json()"
   ]
  },
  {
   "cell_type": "code",
   "execution_count": 112,
   "id": "8b9fbb16",
   "metadata": {},
   "outputs": [],
   "source": [
    "# Function to request details for each external IMDb ID\n",
    "def tmdb_api_1(ids):\n",
    "    details = []\n",
    "    querystring = {\n",
    "        \"api_key\": tmdb_api_key,\n",
    "        \"language\": \"en-US\",\n",
    "        \"external_source\": \"imdb_id\"\n",
    "        }\n",
    "\n",
    "    for id in tqdm(ids):\n",
    "        url = f\"https://api.themoviedb.org/3/find/{id}\"\n",
    "        response = requests.request(\n",
    "            \"GET\", url, params=querystring)\n",
    "        details.append(response.json())\n",
    "\n",
    "    return details"
   ]
  },
  {
   "cell_type": "code",
   "execution_count": 113,
   "id": "0f64b63e",
   "metadata": {},
   "outputs": [
    {
     "data": {
      "application/vnd.jupyter.widget-view+json": {
       "model_id": "84bbd13dd9b548149f2b1acd3e9aae5d",
       "version_major": 2,
       "version_minor": 0
      },
      "text/plain": [
       "  0%|          | 0/21993 [00:00<?, ?it/s]"
      ]
     },
     "metadata": {},
     "output_type": "display_data"
    }
   ],
   "source": [
    "tmdb_1 = tmdb_api_1(ids)\n",
    "\n",
    "# Save as JSON\n",
    "with open(\"tmdb_1.json\", \"w\") as fp:\n",
    "    json.dump(tmdb_1, fp)"
   ]
  },
  {
   "cell_type": "code",
   "execution_count": 134,
   "id": "206deb36",
   "metadata": {},
   "outputs": [],
   "source": [
    "# Store TMDb IDs in list\n",
    "ids_tmdb = []\n",
    "for result in tmdb_1:\n",
    "    for title in result[\"movie_results\"]:\n",
    "        ids_tmdb.append(title[\"id\"])"
   ]
  },
  {
   "cell_type": "code",
   "execution_count": 133,
   "id": "1634d33a",
   "metadata": {},
   "outputs": [
    {
     "data": {
      "text/plain": [
       "41609"
      ]
     },
     "execution_count": 133,
     "metadata": {},
     "output_type": "execute_result"
    }
   ],
   "source": [
    "tmdb_1[0][\"movie_results\"][0][\"id\"]"
   ]
  },
  {
   "cell_type": "code",
   "execution_count": 139,
   "id": "78b29063",
   "metadata": {},
   "outputs": [],
   "source": [
    "# Function to request details for each TMDb ID\n",
    "def tmdb_api_2(ids_tmdb):\n",
    "    details = []\n",
    "    querystring = {\n",
    "        \"api_key\": tmdb_api_key,\n",
    "        \"language\": \"en-US\"\n",
    "        }\n",
    "\n",
    "    for id in tqdm(ids_tmdb):\n",
    "        url = f\"https://api.themoviedb.org/3/movie/{id}\"\n",
    "        response = requests.request(\n",
    "            \"GET\", url, params=querystring)\n",
    "        details.append(response.json())\n",
    "\n",
    "    return details"
   ]
  },
  {
   "cell_type": "code",
   "execution_count": 141,
   "id": "01bb4a61",
   "metadata": {},
   "outputs": [
    {
     "data": {
      "application/vnd.jupyter.widget-view+json": {
       "model_id": "26f751cfb9ca417eaed056c719bd28e6",
       "version_major": 2,
       "version_minor": 0
      },
      "text/plain": [
       "  0%|          | 0/21956 [00:00<?, ?it/s]"
      ]
     },
     "metadata": {},
     "output_type": "display_data"
    }
   ],
   "source": [
    "tmdb_2 = tmdb_api_2(ids_tmdb)\n",
    "\n",
    "# Save as JSON\n",
    "with open(\"tmdb_2.json\", \"w\") as fp:\n",
    "    json.dump(tmdb_2, fp)"
   ]
  },
  {
   "cell_type": "code",
   "execution_count": 155,
   "id": "ada6130d",
   "metadata": {},
   "outputs": [
    {
     "data": {
      "text/plain": [
       "{'adult': False,\n",
       " 'backdrop_path': '/oq5cf8FK7zAUtdcYuNImJfSYBbf.jpg',\n",
       " 'belongs_to_collection': None,\n",
       " 'budget': 0,\n",
       " 'genres': [{'id': 28, 'name': 'Action'},\n",
       "  {'id': 12, 'name': 'Adventure'},\n",
       "  {'id': 18, 'name': 'Drama'},\n",
       "  {'id': 10749, 'name': 'Romance'}],\n",
       " 'homepage': '',\n",
       " 'id': 41609,\n",
       " 'imdb_id': 'tt0040876',\n",
       " 'original_language': 'en',\n",
       " 'original_title': 'The Three Musketeers',\n",
       " 'overview': \"Athletic adaptation of Alexandre Dumas' classic adventure about the king's musketeers and their mission to protect France.\",\n",
       " 'popularity': 5.229,\n",
       " 'poster_path': '/gkkKenOTD5Lx8DFxvosozot6p0f.jpg',\n",
       " 'production_companies': [{'id': 1460,\n",
       "   'logo_path': None,\n",
       "   'name': \"Loew's\",\n",
       "   'origin_country': ''},\n",
       "  {'id': 21,\n",
       "   'logo_path': '/aOWKh4gkNrfFZ3Ep7n0ckPhoGb5.png',\n",
       "   'name': 'Metro-Goldwyn-Mayer',\n",
       "   'origin_country': 'US'}],\n",
       " 'production_countries': [{'iso_3166_1': 'US',\n",
       "   'name': 'United States of America'}],\n",
       " 'release_date': '1948-10-19',\n",
       " 'revenue': 0,\n",
       " 'runtime': 125,\n",
       " 'spoken_languages': [{'english_name': 'English',\n",
       "   'iso_639_1': 'en',\n",
       "   'name': 'English'}],\n",
       " 'status': 'Released',\n",
       " 'tagline': 'THE COMPLETE ROMANCE...THE FULL NOVEL!',\n",
       " 'title': 'The Three Musketeers',\n",
       " 'video': False,\n",
       " 'vote_average': 6.5,\n",
       " 'vote_count': 89}"
      ]
     },
     "execution_count": 155,
     "metadata": {},
     "output_type": "execute_result"
    }
   ],
   "source": [
    "tmdb_2[0]"
   ]
  },
  {
   "cell_type": "code",
   "execution_count": 197,
   "id": "c6a29502",
   "metadata": {},
   "outputs": [
    {
     "data": {
      "application/vnd.jupyter.widget-view+json": {
       "model_id": "f3680fb5b8874d9babf0e87d114803d1",
       "version_major": 2,
       "version_minor": 0
      },
      "text/plain": [
       "  0%|          | 0/21956 [00:00<?, ?it/s]"
      ]
     },
     "metadata": {},
     "output_type": "display_data"
    }
   ],
   "source": [
    "tmdb = []\n",
    "for result in tqdm(tmdb_2):\n",
    "    production_companies = \", \".join([company[\"name\"] for company in result[\"production_companies\"]])\n",
    "    tmdb.append([result[\"id\"], result[\"imdb_id\"], result[\"title\"], production_companies])"
   ]
  },
  {
   "cell_type": "code",
   "execution_count": 198,
   "id": "287d0874",
   "metadata": {},
   "outputs": [],
   "source": [
    "df_tmdb = pd.DataFrame(tmdb, columns=[\"tmdb_id\", \"imdb_id\", \"title\", \"production_companies\"])"
   ]
  },
  {
   "cell_type": "code",
   "execution_count": 199,
   "id": "d5831ffc",
   "metadata": {},
   "outputs": [
    {
     "data": {
      "text/html": [
       "<div>\n",
       "<style scoped>\n",
       "    .dataframe tbody tr th:only-of-type {\n",
       "        vertical-align: middle;\n",
       "    }\n",
       "\n",
       "    .dataframe tbody tr th {\n",
       "        vertical-align: top;\n",
       "    }\n",
       "\n",
       "    .dataframe thead th {\n",
       "        text-align: right;\n",
       "    }\n",
       "</style>\n",
       "<table border=\"1\" class=\"dataframe\">\n",
       "  <thead>\n",
       "    <tr style=\"text-align: right;\">\n",
       "      <th></th>\n",
       "      <th>tmdb_id</th>\n",
       "      <th>imdb_id</th>\n",
       "      <th>title</th>\n",
       "      <th>production_companies</th>\n",
       "    </tr>\n",
       "  </thead>\n",
       "  <tbody>\n",
       "    <tr>\n",
       "      <th>0</th>\n",
       "      <td>41609</td>\n",
       "      <td>tt0040876</td>\n",
       "      <td>The Three Musketeers</td>\n",
       "      <td>Loew's, Metro-Goldwyn-Mayer</td>\n",
       "    </tr>\n",
       "    <tr>\n",
       "      <th>1</th>\n",
       "      <td>622</td>\n",
       "      <td>tt0142688</td>\n",
       "      <td>The Ninth Gate</td>\n",
       "      <td>R.P. Productions, Orly Films, Bac Films, Kino ...</td>\n",
       "    </tr>\n",
       "    <tr>\n",
       "      <th>2</th>\n",
       "      <td>69533</td>\n",
       "      <td>tt0375880</td>\n",
       "      <td>Kadhal Konden</td>\n",
       "      <td>R. K. Productions</td>\n",
       "    </tr>\n",
       "    <tr>\n",
       "      <th>3</th>\n",
       "      <td>50075</td>\n",
       "      <td>tt0016654</td>\n",
       "      <td>The Black Pirate</td>\n",
       "      <td>United Artists, Elton Corporation</td>\n",
       "    </tr>\n",
       "    <tr>\n",
       "      <th>4</th>\n",
       "      <td>2064</td>\n",
       "      <td>tt0114924</td>\n",
       "      <td>While You Were Sleeping</td>\n",
       "      <td>Caravan Pictures, Hollywood Pictures</td>\n",
       "    </tr>\n",
       "    <tr>\n",
       "      <th>...</th>\n",
       "      <td>...</td>\n",
       "      <td>...</td>\n",
       "      <td>...</td>\n",
       "      <td>...</td>\n",
       "    </tr>\n",
       "    <tr>\n",
       "      <th>21951</th>\n",
       "      <td>2172</td>\n",
       "      <td>tt0093668</td>\n",
       "      <td>Pathfinder</td>\n",
       "      <td>Filmkameratene, Carolco Pictures</td>\n",
       "    </tr>\n",
       "    <tr>\n",
       "      <th>21952</th>\n",
       "      <td>92233</td>\n",
       "      <td>tt0065677</td>\n",
       "      <td>The Forbidden Photos of a Lady Above Suspicion</td>\n",
       "      <td>Produzioni Cinematografiche Mediterranee (PCM)...</td>\n",
       "    </tr>\n",
       "    <tr>\n",
       "      <th>21953</th>\n",
       "      <td>39561</td>\n",
       "      <td>tt0865951</td>\n",
       "      <td>Testosteron</td>\n",
       "      <td>Van Worden</td>\n",
       "    </tr>\n",
       "    <tr>\n",
       "      <th>21954</th>\n",
       "      <td>35206</td>\n",
       "      <td>tt0049521</td>\n",
       "      <td>Death in the Garden</td>\n",
       "      <td>Producciones Tepeyac, Dismage</td>\n",
       "    </tr>\n",
       "    <tr>\n",
       "      <th>21955</th>\n",
       "      <td>481574</td>\n",
       "      <td>tt2186669</td>\n",
       "      <td>٤٨ ساعة في إسرائيل</td>\n",
       "      <td></td>\n",
       "    </tr>\n",
       "  </tbody>\n",
       "</table>\n",
       "<p>21956 rows × 4 columns</p>\n",
       "</div>"
      ],
      "text/plain": [
       "       tmdb_id    imdb_id                                           title  \\\n",
       "0        41609  tt0040876                            The Three Musketeers   \n",
       "1          622  tt0142688                                  The Ninth Gate   \n",
       "2        69533  tt0375880                                   Kadhal Konden   \n",
       "3        50075  tt0016654                                The Black Pirate   \n",
       "4         2064  tt0114924                         While You Were Sleeping   \n",
       "...        ...        ...                                             ...   \n",
       "21951     2172  tt0093668                                      Pathfinder   \n",
       "21952    92233  tt0065677  The Forbidden Photos of a Lady Above Suspicion   \n",
       "21953    39561  tt0865951                                     Testosteron   \n",
       "21954    35206  tt0049521                             Death in the Garden   \n",
       "21955   481574  tt2186669                              ٤٨ ساعة في إسرائيل   \n",
       "\n",
       "                                    production_companies  \n",
       "0                            Loew's, Metro-Goldwyn-Mayer  \n",
       "1      R.P. Productions, Orly Films, Bac Films, Kino ...  \n",
       "2                                      R. K. Productions  \n",
       "3                      United Artists, Elton Corporation  \n",
       "4                   Caravan Pictures, Hollywood Pictures  \n",
       "...                                                  ...  \n",
       "21951                   Filmkameratene, Carolco Pictures  \n",
       "21952  Produzioni Cinematografiche Mediterranee (PCM)...  \n",
       "21953                                         Van Worden  \n",
       "21954                      Producciones Tepeyac, Dismage  \n",
       "21955                                                     \n",
       "\n",
       "[21956 rows x 4 columns]"
      ]
     },
     "execution_count": 199,
     "metadata": {},
     "output_type": "execute_result"
    }
   ],
   "source": [
    "df_tmdb"
   ]
  },
  {
   "cell_type": "code",
   "execution_count": 212,
   "id": "6c5d0fe3",
   "metadata": {},
   "outputs": [
    {
     "data": {
      "text/plain": [
       "                                                       1554\n",
       "Metro-Goldwyn-Mayer                                     401\n",
       "20th Century Fox                                        313\n",
       "Paramount                                               299\n",
       "Warner Bros. Pictures                                   293\n",
       "Universal Pictures                                      210\n",
       "Columbia Pictures                                       185\n",
       "RKO Radio Pictures                                      139\n",
       "Mosfilm                                                  68\n",
       "Toho Co.                                                 58\n",
       "Universal International Pictures                         51\n",
       "Shochiku Co., Ltd.                                       49\n",
       "Walt Disney Productions                                  46\n",
       "Yash Raj Films                                           38\n",
       "SF Studios                                               37\n",
       "Daiei Film                                               36\n",
       "Hammer Film Productions                                  34\n",
       "Orion Pictures                                           34\n",
       "United Artists                                           31\n",
       "Walt Disney Pictures                                     31\n",
       "Filmové studio Barrandov                                 30\n",
       "Touchstone Pictures                                      28\n",
       "New Line Cinema                                          28\n",
       "Toei Company                                             25\n",
       "Miramax                                                  23\n",
       "Shaw Brothers                                            23\n",
       "Nordisk Film                                             23\n",
       "TriStar Pictures                                         22\n",
       "Toei Animation                                           21\n",
       "Arzu Film                                                20\n",
       "The Rank Organisation                                    19\n",
       "Fox Film Corporation                                     19\n",
       "American International Pictures                          19\n",
       "Zentropa Entertainments                                  19\n",
       "Hal Roach Studios                                        17\n",
       "Loew's, Metro-Goldwyn-Mayer                              17\n",
       "First National Pictures, Warner Bros. Pictures           17\n",
       "Nikkatsu Corporation                                     17\n",
       "Republic Pictures                                        16\n",
       "Gaumont                                                  16\n",
       "First National Pictures                                  16\n",
       "UTV Motion Pictures                                      16\n",
       "Gorky Film Studios                                       15\n",
       "SVF Entertainment                                        15\n",
       "Finos Film                                               14\n",
       "CTB Film Company                                         14\n",
       "Walt Disney Pictures, Walt Disney Productions            14\n",
       "The Vitaphone Corporation, Warner Bros. Pictures         13\n",
       "Marvel Studios                                           13\n",
       "New World Pictures                                       13\n",
       "Orange Sky Golden Harvest                                13\n",
       "ARD                                                      13\n",
       "Walt Disney Animation Studios, Walt Disney Pictures      12\n",
       "Toho Pictures, Inc.                                      12\n",
       "GMM Tai Hub (GTH)                                        12\n",
       "DreamWorks Animation                                     12\n",
       "Ealing Studios                                           11\n",
       "Dharma Productions                                       11\n",
       "Pixar, Walt Disney Pictures                              11\n",
       "Lenfilm                                                  11\n",
       "Name: production_companies, dtype: int64"
      ]
     },
     "execution_count": 212,
     "metadata": {},
     "output_type": "execute_result"
    }
   ],
   "source": [
    "df_tmdb[\"production_companies\"].value_counts().nlargest(60)"
   ]
  },
  {
   "cell_type": "code",
   "execution_count": 254,
   "id": "98f28e78",
   "metadata": {},
   "outputs": [],
   "source": [
    "# Define major production companies\n",
    "major_production = [\"universal pictures\",\n",
    "                    \"universal international pictures\",\n",
    "                    \"paramount\",\n",
    "                    \"warner bros\",\n",
    "                    \"walt disney\",\n",
    "                    \"new line cinema\",\n",
    "                    \"columbia pictures\",\n",
    "                    \"20th century\",\n",
    "                    \"marvel studios\",\n",
    "                    \"metro-goldwyn-mayer\",\n",
    "                    \"mgm\",\n",
    "                    \"lionsgate\",\n",
    "                    \"netflix\",\n",
    "                    \"amazon\"]"
   ]
  },
  {
   "cell_type": "code",
   "execution_count": 261,
   "id": "e32572bd",
   "metadata": {},
   "outputs": [],
   "source": [
    "df_tmdb_new = df_tmdb.loc[~df_tmdb[\"production_companies\"].str.lower().str.contains(\"|\".join(major_production))]"
   ]
  },
  {
   "cell_type": "code",
   "execution_count": 443,
   "id": "5783b943",
   "metadata": {},
   "outputs": [],
   "source": [
    "# Export as CSV\n",
    "df_tmdb_new.to_csv(\"tmdb_filtered.csv\", index=False)"
   ]
  },
  {
   "cell_type": "code",
   "execution_count": 262,
   "id": "a38f9fc9",
   "metadata": {},
   "outputs": [
    {
     "data": {
      "text/plain": [
       "17153"
      ]
     },
     "execution_count": 262,
     "metadata": {},
     "output_type": "execute_result"
    }
   ],
   "source": [
    "ids_new = df_tmdb_new[\"imdb_id\"].tolist()\n",
    "len(ids_new)"
   ]
  },
  {
   "cell_type": "code",
   "execution_count": 331,
   "id": "1cbef4e7",
   "metadata": {},
   "outputs": [],
   "source": [
    "# Export list to CSV\n",
    "with open(\"imdb_ids_new.csv\", \"w\") as f:\n",
    "    writer = csv.writer(f)\n",
    "    for line in ids_new:\n",
    "        writer.writerow([line])"
   ]
  },
  {
   "cell_type": "code",
   "execution_count": 349,
   "id": "c5d984b5",
   "metadata": {},
   "outputs": [
    {
     "data": {
      "text/plain": [
       "17153"
      ]
     },
     "execution_count": 349,
     "metadata": {},
     "output_type": "execute_result"
    }
   ],
   "source": [
    "ids_tmdb_new = df_tmdb_new[\"tmdb_id\"].tolist()\n",
    "len(ids_tmdb_new)"
   ]
  },
  {
   "cell_type": "code",
   "execution_count": 351,
   "id": "ff66b6b0",
   "metadata": {},
   "outputs": [],
   "source": [
    "# Export list to CSV\n",
    "with open(\"tmdb_ids_new.csv\", \"w\") as f:\n",
    "    writer = csv.writer(f)\n",
    "    for line in ids_tmdb_new:\n",
    "        writer.writerow([line])"
   ]
  },
  {
   "cell_type": "code",
   "execution_count": 158,
   "id": "fda49078",
   "metadata": {},
   "outputs": [
    {
     "data": {
      "text/plain": [
       "'The Three Musketeers'"
      ]
     },
     "execution_count": 158,
     "metadata": {},
     "output_type": "execute_result"
    }
   ],
   "source": [
    "tmdb_2[0][\"title\"]"
   ]
  },
  {
   "cell_type": "code",
   "execution_count": 161,
   "id": "0c98b590",
   "metadata": {},
   "outputs": [
    {
     "data": {
      "text/plain": [
       "1460"
      ]
     },
     "execution_count": 161,
     "metadata": {},
     "output_type": "execute_result"
    }
   ],
   "source": [
    "tmdb_2[0][\"production_companies\"][0][\"id\"]"
   ]
  },
  {
   "cell_type": "code",
   "execution_count": 144,
   "id": "ada25fa2",
   "metadata": {},
   "outputs": [
    {
     "data": {
      "text/html": [
       "<div>\n",
       "<style scoped>\n",
       "    .dataframe tbody tr th:only-of-type {\n",
       "        vertical-align: middle;\n",
       "    }\n",
       "\n",
       "    .dataframe tbody tr th {\n",
       "        vertical-align: top;\n",
       "    }\n",
       "\n",
       "    .dataframe thead th {\n",
       "        text-align: right;\n",
       "    }\n",
       "</style>\n",
       "<table border=\"1\" class=\"dataframe\">\n",
       "  <thead>\n",
       "    <tr style=\"text-align: right;\">\n",
       "      <th></th>\n",
       "      <th>adult</th>\n",
       "      <th>backdrop_path</th>\n",
       "      <th>belongs_to_collection</th>\n",
       "      <th>budget</th>\n",
       "      <th>genres</th>\n",
       "      <th>homepage</th>\n",
       "      <th>id</th>\n",
       "      <th>imdb_id</th>\n",
       "      <th>original_language</th>\n",
       "      <th>original_title</th>\n",
       "      <th>...</th>\n",
       "      <th>status</th>\n",
       "      <th>tagline</th>\n",
       "      <th>title</th>\n",
       "      <th>video</th>\n",
       "      <th>vote_average</th>\n",
       "      <th>vote_count</th>\n",
       "      <th>belongs_to_collection.id</th>\n",
       "      <th>belongs_to_collection.name</th>\n",
       "      <th>belongs_to_collection.poster_path</th>\n",
       "      <th>belongs_to_collection.backdrop_path</th>\n",
       "    </tr>\n",
       "  </thead>\n",
       "  <tbody>\n",
       "    <tr>\n",
       "      <th>0</th>\n",
       "      <td>False</td>\n",
       "      <td>/oq5cf8FK7zAUtdcYuNImJfSYBbf.jpg</td>\n",
       "      <td>NaN</td>\n",
       "      <td>0</td>\n",
       "      <td>[{'id': 28, 'name': 'Action'}, {'id': 12, 'nam...</td>\n",
       "      <td></td>\n",
       "      <td>41609</td>\n",
       "      <td>tt0040876</td>\n",
       "      <td>en</td>\n",
       "      <td>The Three Musketeers</td>\n",
       "      <td>...</td>\n",
       "      <td>Released</td>\n",
       "      <td>THE COMPLETE ROMANCE...THE FULL NOVEL!</td>\n",
       "      <td>The Three Musketeers</td>\n",
       "      <td>False</td>\n",
       "      <td>6.5</td>\n",
       "      <td>89</td>\n",
       "      <td>NaN</td>\n",
       "      <td>NaN</td>\n",
       "      <td>NaN</td>\n",
       "      <td>NaN</td>\n",
       "    </tr>\n",
       "    <tr>\n",
       "      <th>1</th>\n",
       "      <td>False</td>\n",
       "      <td>/ijZKFKzppG2GxGAQhJmyhKNw1wJ.jpg</td>\n",
       "      <td>NaN</td>\n",
       "      <td>38000000</td>\n",
       "      <td>[{'id': 9648, 'name': 'Mystery'}, {'id': 53, '...</td>\n",
       "      <td></td>\n",
       "      <td>622</td>\n",
       "      <td>tt0142688</td>\n",
       "      <td>en</td>\n",
       "      <td>The Ninth Gate</td>\n",
       "      <td>...</td>\n",
       "      <td>Released</td>\n",
       "      <td>Every book has a life of its own.</td>\n",
       "      <td>The Ninth Gate</td>\n",
       "      <td>False</td>\n",
       "      <td>6.4</td>\n",
       "      <td>2097</td>\n",
       "      <td>NaN</td>\n",
       "      <td>NaN</td>\n",
       "      <td>NaN</td>\n",
       "      <td>NaN</td>\n",
       "    </tr>\n",
       "    <tr>\n",
       "      <th>2</th>\n",
       "      <td>False</td>\n",
       "      <td>/kKCE0gPUUshGBB2bBNXOfUCxg77.jpg</td>\n",
       "      <td>NaN</td>\n",
       "      <td>0</td>\n",
       "      <td>[{'id': 18, 'name': 'Drama'}, {'id': 10749, 'n...</td>\n",
       "      <td></td>\n",
       "      <td>69533</td>\n",
       "      <td>tt0375880</td>\n",
       "      <td>ta</td>\n",
       "      <td>காதல் கொண்டேன்</td>\n",
       "      <td>...</td>\n",
       "      <td>Released</td>\n",
       "      <td></td>\n",
       "      <td>Kadhal Konden</td>\n",
       "      <td>False</td>\n",
       "      <td>8.0</td>\n",
       "      <td>13</td>\n",
       "      <td>NaN</td>\n",
       "      <td>NaN</td>\n",
       "      <td>NaN</td>\n",
       "      <td>NaN</td>\n",
       "    </tr>\n",
       "    <tr>\n",
       "      <th>3</th>\n",
       "      <td>False</td>\n",
       "      <td>/b1NuCAZqzusx8iE7WlwUZtibpa5.jpg</td>\n",
       "      <td>NaN</td>\n",
       "      <td>1300000</td>\n",
       "      <td>[{'id': 12, 'name': 'Adventure'}, {'id': 18, '...</td>\n",
       "      <td></td>\n",
       "      <td>50075</td>\n",
       "      <td>tt0016654</td>\n",
       "      <td>en</td>\n",
       "      <td>The Black Pirate</td>\n",
       "      <td>...</td>\n",
       "      <td>Released</td>\n",
       "      <td>The Love Story of a Bold Buccaneer</td>\n",
       "      <td>The Black Pirate</td>\n",
       "      <td>False</td>\n",
       "      <td>7.0</td>\n",
       "      <td>34</td>\n",
       "      <td>NaN</td>\n",
       "      <td>NaN</td>\n",
       "      <td>NaN</td>\n",
       "      <td>NaN</td>\n",
       "    </tr>\n",
       "    <tr>\n",
       "      <th>4</th>\n",
       "      <td>False</td>\n",
       "      <td>/dLrP3UNladtXj4ELjfewFQjGwwX.jpg</td>\n",
       "      <td>NaN</td>\n",
       "      <td>17000000</td>\n",
       "      <td>[{'id': 10749, 'name': 'Romance'}, {'id': 35, ...</td>\n",
       "      <td></td>\n",
       "      <td>2064</td>\n",
       "      <td>tt0114924</td>\n",
       "      <td>en</td>\n",
       "      <td>While You Were Sleeping</td>\n",
       "      <td>...</td>\n",
       "      <td>Released</td>\n",
       "      <td>A story about love at second sight.</td>\n",
       "      <td>While You Were Sleeping</td>\n",
       "      <td>False</td>\n",
       "      <td>6.9</td>\n",
       "      <td>1201</td>\n",
       "      <td>NaN</td>\n",
       "      <td>NaN</td>\n",
       "      <td>NaN</td>\n",
       "      <td>NaN</td>\n",
       "    </tr>\n",
       "  </tbody>\n",
       "</table>\n",
       "<p>5 rows × 29 columns</p>\n",
       "</div>"
      ],
      "text/plain": [
       "   adult                     backdrop_path  belongs_to_collection    budget  \\\n",
       "0  False  /oq5cf8FK7zAUtdcYuNImJfSYBbf.jpg                    NaN         0   \n",
       "1  False  /ijZKFKzppG2GxGAQhJmyhKNw1wJ.jpg                    NaN  38000000   \n",
       "2  False  /kKCE0gPUUshGBB2bBNXOfUCxg77.jpg                    NaN         0   \n",
       "3  False  /b1NuCAZqzusx8iE7WlwUZtibpa5.jpg                    NaN   1300000   \n",
       "4  False  /dLrP3UNladtXj4ELjfewFQjGwwX.jpg                    NaN  17000000   \n",
       "\n",
       "                                              genres homepage     id  \\\n",
       "0  [{'id': 28, 'name': 'Action'}, {'id': 12, 'nam...           41609   \n",
       "1  [{'id': 9648, 'name': 'Mystery'}, {'id': 53, '...             622   \n",
       "2  [{'id': 18, 'name': 'Drama'}, {'id': 10749, 'n...           69533   \n",
       "3  [{'id': 12, 'name': 'Adventure'}, {'id': 18, '...           50075   \n",
       "4  [{'id': 10749, 'name': 'Romance'}, {'id': 35, ...            2064   \n",
       "\n",
       "     imdb_id original_language           original_title  ...    status  \\\n",
       "0  tt0040876                en     The Three Musketeers  ...  Released   \n",
       "1  tt0142688                en           The Ninth Gate  ...  Released   \n",
       "2  tt0375880                ta           காதல் கொண்டேன்  ...  Released   \n",
       "3  tt0016654                en         The Black Pirate  ...  Released   \n",
       "4  tt0114924                en  While You Were Sleeping  ...  Released   \n",
       "\n",
       "                                  tagline                    title  video  \\\n",
       "0  THE COMPLETE ROMANCE...THE FULL NOVEL!     The Three Musketeers  False   \n",
       "1       Every book has a life of its own.           The Ninth Gate  False   \n",
       "2                                                    Kadhal Konden  False   \n",
       "3      The Love Story of a Bold Buccaneer         The Black Pirate  False   \n",
       "4     A story about love at second sight.  While You Were Sleeping  False   \n",
       "\n",
       "  vote_average vote_count  belongs_to_collection.id  \\\n",
       "0          6.5         89                       NaN   \n",
       "1          6.4       2097                       NaN   \n",
       "2          8.0         13                       NaN   \n",
       "3          7.0         34                       NaN   \n",
       "4          6.9       1201                       NaN   \n",
       "\n",
       "   belongs_to_collection.name belongs_to_collection.poster_path  \\\n",
       "0                         NaN                               NaN   \n",
       "1                         NaN                               NaN   \n",
       "2                         NaN                               NaN   \n",
       "3                         NaN                               NaN   \n",
       "4                         NaN                               NaN   \n",
       "\n",
       "  belongs_to_collection.backdrop_path  \n",
       "0                                 NaN  \n",
       "1                                 NaN  \n",
       "2                                 NaN  \n",
       "3                                 NaN  \n",
       "4                                 NaN  \n",
       "\n",
       "[5 rows x 29 columns]"
      ]
     },
     "execution_count": 144,
     "metadata": {},
     "output_type": "execute_result"
    }
   ],
   "source": [
    "# Create dataframe\n",
    "df_tmdb = pd.json_normalize(tmdb_2)\n",
    "df_tmdb.head()"
   ]
  },
  {
   "cell_type": "code",
   "execution_count": 148,
   "id": "d1c00022",
   "metadata": {},
   "outputs": [
    {
     "data": {
      "text/plain": [
       "[{'id': 1460, 'logo_path': None, 'name': \"Loew's\", 'origin_country': ''},\n",
       " {'id': 21,\n",
       "  'logo_path': '/aOWKh4gkNrfFZ3Ep7n0ckPhoGb5.png',\n",
       "  'name': 'Metro-Goldwyn-Mayer',\n",
       "  'origin_country': 'US'}]"
      ]
     },
     "execution_count": 148,
     "metadata": {},
     "output_type": "execute_result"
    }
   ],
   "source": [
    "df_tmdb[\"production_companies\"][0]"
   ]
  },
  {
   "cell_type": "code",
   "execution_count": 114,
   "id": "df3d2f2e",
   "metadata": {},
   "outputs": [],
   "source": [
    "# Export as CSV\n",
    "df.to_csv(\"tmdb_1.csv\", index=False)"
   ]
  },
  {
   "cell_type": "markdown",
   "id": "cb8499a8",
   "metadata": {},
   "source": [
    "# Directors and Actors"
   ]
  },
  {
   "cell_type": "code",
   "execution_count": 307,
   "id": "9cd62c5e",
   "metadata": {},
   "outputs": [
    {
     "name": "stdout",
     "output_type": "stream",
     "text": [
      "X-RapidAPI-Key: ········\n"
     ]
    }
   ],
   "source": [
    "# Store API keys\n",
    "rapidapi_key = str(getpass.getpass(\"X-RapidAPI-Key: \"))"
   ]
  },
  {
   "cell_type": "code",
   "execution_count": 345,
   "id": "1cd6a944",
   "metadata": {},
   "outputs": [],
   "source": [
    "# Function to request details for each external IMDb ID\n",
    "def imdb_api_2(ids_new):\n",
    "    details = []\n",
    "    headers = {\n",
    "        \"x-rapidapi-key\": rapidapi_key,\n",
    "        \"x-rapidapi-host\": \"series-movies-imdb.p.rapidapi.com\"\n",
    "        }\n",
    "\n",
    "    for id in tqdm(ids_new[1000:]):\n",
    "        url = f\"https://series-movies-imdb.p.rapidapi.com/movie/details/{id}\"\n",
    "        response = requests.request(\"GET\", url, headers=headers)\n",
    "        try:\n",
    "            details.append(response.json())\n",
    "        except json.JSONDecodeError:\n",
    "            continue\n",
    "            \n",
    "    return details"
   ]
  },
  {
   "cell_type": "code",
   "execution_count": 343,
   "id": "eacc945c",
   "metadata": {},
   "outputs": [
    {
     "data": {
      "application/vnd.jupyter.widget-view+json": {
       "model_id": "62f76016cfcb472997b49aca83822885",
       "version_major": 2,
       "version_minor": 0
      },
      "text/plain": [
       "  0%|          | 0/1000 [00:00<?, ?it/s]"
      ]
     },
     "metadata": {},
     "output_type": "display_data"
    }
   ],
   "source": [
    "imdb_2 = imdb_api_2(ids_new)\n",
    "\n",
    "# Save as JSON\n",
    "with open(\"imdb_2.json\", \"w\") as fp:\n",
    "    json.dump(imdb_2, fp)"
   ]
  },
  {
   "cell_type": "code",
   "execution_count": 352,
   "id": "ee1f29ff",
   "metadata": {},
   "outputs": [
    {
     "data": {
      "application/vnd.jupyter.widget-view+json": {
       "model_id": "6933b9a3d8d94756b78a8c4c5a6524a9",
       "version_major": 2,
       "version_minor": 0
      },
      "text/plain": [
       "  0%|          | 0/16153 [00:00<?, ?it/s]"
      ]
     },
     "metadata": {},
     "output_type": "display_data"
    }
   ],
   "source": [
    "imdb_3 = imdb_api_2(ids_new)\n",
    "\n",
    "# Save as JSON\n",
    "with open(\"imdb_3.json\", \"w\") as fp:\n",
    "    json.dump(imdb_3, fp)"
   ]
  },
  {
   "cell_type": "code",
   "execution_count": 450,
   "id": "a7c19747",
   "metadata": {},
   "outputs": [
    {
     "data": {
      "text/plain": [
       "'tt0338706'"
      ]
     },
     "execution_count": 450,
     "metadata": {},
     "output_type": "execute_result"
    }
   ],
   "source": [
    "imdb_3[0][\"movieId\"]"
   ]
  },
  {
   "cell_type": "code",
   "execution_count": 427,
   "id": "08f74681",
   "metadata": {},
   "outputs": [
    {
     "data": {
      "text/plain": [
       "'nm1421754'"
      ]
     },
     "execution_count": 427,
     "metadata": {},
     "output_type": "execute_result"
    }
   ],
   "source": [
    "imdb_2[1][\"movieDirectors\"][0][\"directorId\"]"
   ]
  },
  {
   "cell_type": "code",
   "execution_count": 363,
   "id": "efb58696",
   "metadata": {},
   "outputs": [
    {
     "data": {
      "text/plain": [
       "'Rolf de Heer'"
      ]
     },
     "execution_count": 363,
     "metadata": {},
     "output_type": "execute_result"
    }
   ],
   "source": [
    "imdb_3[0][\"movieDirectors\"][0][\"directorBirthName\"]"
   ]
  },
  {
   "cell_type": "code",
   "execution_count": 382,
   "id": "9ee3b449",
   "metadata": {},
   "outputs": [
    {
     "data": {
      "text/plain": [
       "[{'actorId': 'nm0438463', 'actorBirthName': 'Anil Kapoor'},\n",
       " {'actorId': 'nm0002043', 'actorBirthName': 'Madhuri Dixit'},\n",
       " {'actorId': 'nm0794363', 'actorBirthName': 'Namrata Shirodkar'}]"
      ]
     },
     "execution_count": 382,
     "metadata": {},
     "output_type": "execute_result"
    }
   ],
   "source": [
    "imdb_3[1][\"movieStars\"]"
   ]
  },
  {
   "cell_type": "markdown",
   "id": "804fcba2",
   "metadata": {},
   "source": [
    "## Directors\n",
    "\n",
    "### List of Directors"
   ]
  },
  {
   "cell_type": "code",
   "execution_count": 492,
   "id": "d2994dc2",
   "metadata": {},
   "outputs": [
    {
     "data": {
      "application/vnd.jupyter.widget-view+json": {
       "model_id": "cd04a66c89e54eceb7dab4934867b41e",
       "version_major": 2,
       "version_minor": 0
      },
      "text/plain": [
       "  0%|          | 0/994 [00:00<?, ?it/s]"
      ]
     },
     "metadata": {},
     "output_type": "display_data"
    },
    {
     "data": {
      "text/plain": [
       "[['tt0142688', 'nm0000591', 'Roman Polanski'],\n",
       " ['tt0375880', 'nm1421754', 'K. Selvaraghavan'],\n",
       " ['tt0016654', 'nm0662032', 'Albert Parker'],\n",
       " ['tt0114924', 'nm0005509', 'Jon Turteltaub'],\n",
       " ['tt0018192', 'nm0304098', 'Abel Gance'],\n",
       " ['tt0059348', 'nm0006249', 'Satyajit Ray'],\n",
       " ['tt0360845', 'nm0000419', 'Jean-Luc Godard'],\n",
       " ['tt0070474', 'nm0050853', 'Erik Balling'],\n",
       " ['tt0280707', 'nm0000265', 'Robert Altman'],\n",
       " ['tt6028620', 'nm0002140', 'Agnieszka Holland'],\n",
       " ['tt1024942', 'nm0097079', 'Ole Bornedal'],\n",
       " ['tt1772270', 'nm0134559', 'Laurent Cantet'],\n",
       " ['tt0050665', 'nm0746950', 'Bimal Roy'],\n",
       " ['tt0790799', 'nm1038127', 'Tatia Rosenthal'],\n",
       " ['tt0899138', 'nm1802274', 'William Olsson'],\n",
       " ['tt0243255', 'nm0106924', 'Catherine Breillat'],\n",
       " ['tt6292852', 'nm3078140', 'Grant Sputore'],\n",
       " ['tt0102032', 'nm0638630', 'Roger Nygard'],\n",
       " ['tt0073836', 'nm0480575', 'Aldo Lado'],\n",
       " ['tt0085400', 'nm0849609', 'Alain Tanner']]"
      ]
     },
     "execution_count": 492,
     "metadata": {},
     "output_type": "execute_result"
    }
   ],
   "source": [
    "# Create list of director IDs and names\n",
    "directors = []\n",
    "for title in tqdm(imdb_2):\n",
    "    try:\n",
    "        for director in title[\"movieDirectors\"]:\n",
    "            directors.append([title[\"movieId\"], director[\"directorId\"], director[\"directorBirthName\"]])\n",
    "    except KeyError:\n",
    "        continue\n",
    "\n",
    "directors[:20]"
   ]
  },
  {
   "cell_type": "code",
   "execution_count": 493,
   "id": "1006bdf3",
   "metadata": {},
   "outputs": [
    {
     "data": {
      "text/plain": [
       "1072"
      ]
     },
     "execution_count": 493,
     "metadata": {},
     "output_type": "execute_result"
    }
   ],
   "source": [
    "len(directors)"
   ]
  },
  {
   "cell_type": "code",
   "execution_count": 494,
   "id": "8a7f5fd2",
   "metadata": {},
   "outputs": [
    {
     "data": {
      "application/vnd.jupyter.widget-view+json": {
       "model_id": "5b537b5353954df0bbdd44151a6f8d60",
       "version_major": 2,
       "version_minor": 0
      },
      "text/plain": [
       "  0%|          | 0/15967 [00:00<?, ?it/s]"
      ]
     },
     "metadata": {},
     "output_type": "display_data"
    },
    {
     "data": {
      "text/plain": [
       "18228"
      ]
     },
     "execution_count": 494,
     "metadata": {},
     "output_type": "execute_result"
    }
   ],
   "source": [
    "# Extend list of movie director IDs and names\n",
    "for title in tqdm(imdb_3):\n",
    "    try:\n",
    "        for director in title[\"movieDirectors\"]:\n",
    "            directors.append([title[\"movieId\"], director[\"directorId\"], director[\"directorBirthName\"]])\n",
    "    except KeyError:\n",
    "        continue\n",
    "\n",
    "len(directors)"
   ]
  },
  {
   "cell_type": "code",
   "execution_count": 495,
   "id": "7b919aa5",
   "metadata": {},
   "outputs": [
    {
     "data": {
      "text/html": [
       "<div>\n",
       "<style scoped>\n",
       "    .dataframe tbody tr th:only-of-type {\n",
       "        vertical-align: middle;\n",
       "    }\n",
       "\n",
       "    .dataframe tbody tr th {\n",
       "        vertical-align: top;\n",
       "    }\n",
       "\n",
       "    .dataframe thead th {\n",
       "        text-align: right;\n",
       "    }\n",
       "</style>\n",
       "<table border=\"1\" class=\"dataframe\">\n",
       "  <thead>\n",
       "    <tr style=\"text-align: right;\">\n",
       "      <th></th>\n",
       "      <th>imdbID</th>\n",
       "      <th>imdbDirectorID</th>\n",
       "      <th>DirectorName</th>\n",
       "    </tr>\n",
       "  </thead>\n",
       "  <tbody>\n",
       "    <tr>\n",
       "      <th>0</th>\n",
       "      <td>tt0142688</td>\n",
       "      <td>nm0000591</td>\n",
       "      <td>Roman Polanski</td>\n",
       "    </tr>\n",
       "    <tr>\n",
       "      <th>1</th>\n",
       "      <td>tt0375880</td>\n",
       "      <td>nm1421754</td>\n",
       "      <td>K. Selvaraghavan</td>\n",
       "    </tr>\n",
       "    <tr>\n",
       "      <th>2</th>\n",
       "      <td>tt0016654</td>\n",
       "      <td>nm0662032</td>\n",
       "      <td>Albert Parker</td>\n",
       "    </tr>\n",
       "    <tr>\n",
       "      <th>3</th>\n",
       "      <td>tt0114924</td>\n",
       "      <td>nm0005509</td>\n",
       "      <td>Jon Turteltaub</td>\n",
       "    </tr>\n",
       "    <tr>\n",
       "      <th>4</th>\n",
       "      <td>tt0018192</td>\n",
       "      <td>nm0304098</td>\n",
       "      <td>Abel Gance</td>\n",
       "    </tr>\n",
       "    <tr>\n",
       "      <th>...</th>\n",
       "      <td>...</td>\n",
       "      <td>...</td>\n",
       "      <td>...</td>\n",
       "    </tr>\n",
       "    <tr>\n",
       "      <th>18223</th>\n",
       "      <td>tt0065677</td>\n",
       "      <td>nm0258712</td>\n",
       "      <td>Luciano Ercoli</td>\n",
       "    </tr>\n",
       "    <tr>\n",
       "      <th>18224</th>\n",
       "      <td>tt0865951</td>\n",
       "      <td>nm1428845</td>\n",
       "      <td>Tomasz Konecki</td>\n",
       "    </tr>\n",
       "    <tr>\n",
       "      <th>18225</th>\n",
       "      <td>tt0865951</td>\n",
       "      <td>nm1429436</td>\n",
       "      <td>Andrzej Saramonowicz</td>\n",
       "    </tr>\n",
       "    <tr>\n",
       "      <th>18226</th>\n",
       "      <td>tt0049521</td>\n",
       "      <td>nm0000320</td>\n",
       "      <td>Luis Buñuel</td>\n",
       "    </tr>\n",
       "    <tr>\n",
       "      <th>18227</th>\n",
       "      <td>tt2186669</td>\n",
       "      <td>nm0301580</td>\n",
       "      <td>Nader Galal</td>\n",
       "    </tr>\n",
       "  </tbody>\n",
       "</table>\n",
       "<p>18228 rows × 3 columns</p>\n",
       "</div>"
      ],
      "text/plain": [
       "          imdbID imdbDirectorID          DirectorName\n",
       "0      tt0142688      nm0000591        Roman Polanski\n",
       "1      tt0375880      nm1421754      K. Selvaraghavan\n",
       "2      tt0016654      nm0662032         Albert Parker\n",
       "3      tt0114924      nm0005509        Jon Turteltaub\n",
       "4      tt0018192      nm0304098            Abel Gance\n",
       "...          ...            ...                   ...\n",
       "18223  tt0065677      nm0258712        Luciano Ercoli\n",
       "18224  tt0865951      nm1428845        Tomasz Konecki\n",
       "18225  tt0865951      nm1429436  Andrzej Saramonowicz\n",
       "18226  tt0049521      nm0000320           Luis Buñuel\n",
       "18227  tt2186669      nm0301580           Nader Galal\n",
       "\n",
       "[18228 rows x 3 columns]"
      ]
     },
     "execution_count": 495,
     "metadata": {},
     "output_type": "execute_result"
    }
   ],
   "source": [
    "# Create dataframe of IMDb IDs, director IDs and names\n",
    "directors_df = pd.DataFrame(directors, columns=[\"imdbID\", \"imdbDirectorID\", \"DirectorName\"])\n",
    "directors_df"
   ]
  },
  {
   "cell_type": "code",
   "execution_count": 496,
   "id": "d005cbbf",
   "metadata": {},
   "outputs": [],
   "source": [
    "# Export as CSV\n",
    "directors_df.to_csv(\"./Week_9_Final/Files/imdb_directors.csv\", index=False)"
   ]
  },
  {
   "cell_type": "markdown",
   "id": "3689aabe",
   "metadata": {},
   "source": [
    "### Run TMDb API for Directors"
   ]
  },
  {
   "cell_type": "code",
   "execution_count": 507,
   "id": "390bd18c",
   "metadata": {},
   "outputs": [],
   "source": [
    "# Function to request director details for each external IMDb ID\n",
    "def tmdb_api_directors(directors):\n",
    "    details = {}\n",
    "    querystring = {\n",
    "        \"api_key\": tmdb_api_key,\n",
    "        \"language\": \"en-US\",\n",
    "        \"external_source\": \"imdb_id\"\n",
    "        }\n",
    "\n",
    "    for director in tqdm(directors):\n",
    "        url = f\"https://api.themoviedb.org/3/find/{director[1]}\"\n",
    "        response = requests.request(\n",
    "            \"GET\", url, params=querystring)\n",
    "        details[director[1]] = response.json()\n",
    "\n",
    "    return details"
   ]
  },
  {
   "cell_type": "code",
   "execution_count": 509,
   "id": "345e2296",
   "metadata": {},
   "outputs": [
    {
     "data": {
      "application/vnd.jupyter.widget-view+json": {
       "model_id": "bbb12e2e14654ac78b2f1b12caae8074",
       "version_major": 2,
       "version_minor": 0
      },
      "text/plain": [
       "  0%|          | 0/18228 [00:00<?, ?it/s]"
      ]
     },
     "metadata": {},
     "output_type": "display_data"
    }
   ],
   "source": [
    "tmdb_directors = tmdb_api_directors(directors)\n",
    "\n",
    "# Save as JSON\n",
    "with open(\"./Week_9_Final/Files/tmdb_directors.json\", \"w\") as fp:\n",
    "    json.dump(tmdb_directors, fp)"
   ]
  },
  {
   "cell_type": "markdown",
   "id": "50d96282",
   "metadata": {},
   "source": [
    "## Actors\n",
    "\n",
    "### List of Actors"
   ]
  },
  {
   "cell_type": "code",
   "execution_count": 497,
   "id": "eb236996",
   "metadata": {},
   "outputs": [
    {
     "data": {
      "application/vnd.jupyter.widget-view+json": {
       "model_id": "cd6dc076b1a5489f9a3a49e6e893564b",
       "version_major": 2,
       "version_minor": 0
      },
      "text/plain": [
       "  0%|          | 0/994 [00:00<?, ?it/s]"
      ]
     },
     "metadata": {},
     "output_type": "display_data"
    },
    {
     "data": {
      "text/plain": [
       "[['tt0142688', 'nm0000136', 'Johnny Depp'],\n",
       " ['tt0142688', 'nm0001449', 'Frank Langella'],\n",
       " ['tt0142688', 'nm0000565', 'Lena Olin'],\n",
       " ['tt0375880', 'nm1333687', 'Dhanush'],\n",
       " ['tt0375880', 'nm1419300', 'Sonia Agarwal'],\n",
       " ['tt0375880', 'nm1421915', 'Sudip'],\n",
       " ['tt0016654', 'nm0001196', 'Douglas Fairbanks'],\n",
       " ['tt0016654', 'nm0235521', 'Billie Dove'],\n",
       " ['tt0016654', 'nm0683114', 'Tempe Pigott'],\n",
       " ['tt0114924', 'nm0000113', 'Sandra Bullock'],\n",
       " ['tt0114924', 'nm0000597', 'Bill Pullman'],\n",
       " ['tt0114924', 'nm0001251', 'Peter Gallagher'],\n",
       " ['tt0018192', 'nm0226387', 'Albert Dieudonné'],\n",
       " ['tt0018192', 'nm0745565', 'Vladimir Roudenko'],\n",
       " ['tt0018192', 'nm0885965', 'Edmond Van Daële'],\n",
       " ['tt0059348', 'nm0154164', 'Soumitra Chatterjee'],\n",
       " ['tt0059348', 'nm0611538', 'Madhabi Mukherjee'],\n",
       " ['tt0059348', 'nm0052329', 'Haradhan Bannerjee'],\n",
       " ['tt0360845', 'nm0012239', 'Sarah Adler'],\n",
       " ['tt0360845', 'nm0226383', 'Nade Dieu']]"
      ]
     },
     "execution_count": 497,
     "metadata": {},
     "output_type": "execute_result"
    }
   ],
   "source": [
    "# Create list of movie actor IDs and names\n",
    "actors = []\n",
    "for title in tqdm(imdb_2):\n",
    "    try:\n",
    "        for actor in title[\"movieStars\"]:\n",
    "            actors.append([title[\"movieId\"], actor[\"actorId\"], actor[\"actorBirthName\"]])\n",
    "    except KeyError:\n",
    "        continue\n",
    "\n",
    "actors[:20]"
   ]
  },
  {
   "cell_type": "code",
   "execution_count": 498,
   "id": "699fb25d",
   "metadata": {},
   "outputs": [
    {
     "data": {
      "text/plain": [
       "2978"
      ]
     },
     "execution_count": 498,
     "metadata": {},
     "output_type": "execute_result"
    }
   ],
   "source": [
    "len(actors)"
   ]
  },
  {
   "cell_type": "code",
   "execution_count": 499,
   "id": "8f4a5c41",
   "metadata": {},
   "outputs": [
    {
     "data": {
      "application/vnd.jupyter.widget-view+json": {
       "model_id": "18f8d26dcca24c49a4a924c7c66ed802",
       "version_major": 2,
       "version_minor": 0
      },
      "text/plain": [
       "  0%|          | 0/15967 [00:00<?, ?it/s]"
      ]
     },
     "metadata": {},
     "output_type": "display_data"
    },
    {
     "data": {
      "text/plain": [
       "50827"
      ]
     },
     "execution_count": 499,
     "metadata": {},
     "output_type": "execute_result"
    }
   ],
   "source": [
    "# Create list of movie actor IDs and names\n",
    "for title in tqdm(imdb_3):\n",
    "    try:\n",
    "        for actor in title[\"movieStars\"]:\n",
    "            actors.append([title[\"movieId\"], actor[\"actorId\"], actor[\"actorBirthName\"]])\n",
    "    except KeyError:\n",
    "        continue\n",
    "\n",
    "len(actors)"
   ]
  },
  {
   "cell_type": "code",
   "execution_count": 500,
   "id": "d62cfb98",
   "metadata": {},
   "outputs": [
    {
     "data": {
      "text/html": [
       "<div>\n",
       "<style scoped>\n",
       "    .dataframe tbody tr th:only-of-type {\n",
       "        vertical-align: middle;\n",
       "    }\n",
       "\n",
       "    .dataframe tbody tr th {\n",
       "        vertical-align: top;\n",
       "    }\n",
       "\n",
       "    .dataframe thead th {\n",
       "        text-align: right;\n",
       "    }\n",
       "</style>\n",
       "<table border=\"1\" class=\"dataframe\">\n",
       "  <thead>\n",
       "    <tr style=\"text-align: right;\">\n",
       "      <th></th>\n",
       "      <th>imdbID</th>\n",
       "      <th>imdbActorID</th>\n",
       "      <th>ActorName</th>\n",
       "    </tr>\n",
       "  </thead>\n",
       "  <tbody>\n",
       "    <tr>\n",
       "      <th>0</th>\n",
       "      <td>tt0142688</td>\n",
       "      <td>nm0000136</td>\n",
       "      <td>Johnny Depp</td>\n",
       "    </tr>\n",
       "    <tr>\n",
       "      <th>1</th>\n",
       "      <td>tt0142688</td>\n",
       "      <td>nm0001449</td>\n",
       "      <td>Frank Langella</td>\n",
       "    </tr>\n",
       "    <tr>\n",
       "      <th>2</th>\n",
       "      <td>tt0142688</td>\n",
       "      <td>nm0000565</td>\n",
       "      <td>Lena Olin</td>\n",
       "    </tr>\n",
       "    <tr>\n",
       "      <th>3</th>\n",
       "      <td>tt0375880</td>\n",
       "      <td>nm1333687</td>\n",
       "      <td>Dhanush</td>\n",
       "    </tr>\n",
       "    <tr>\n",
       "      <th>4</th>\n",
       "      <td>tt0375880</td>\n",
       "      <td>nm1419300</td>\n",
       "      <td>Sonia Agarwal</td>\n",
       "    </tr>\n",
       "    <tr>\n",
       "      <th>...</th>\n",
       "      <td>...</td>\n",
       "      <td>...</td>\n",
       "      <td>...</td>\n",
       "    </tr>\n",
       "    <tr>\n",
       "      <th>50822</th>\n",
       "      <td>tt0049521</td>\n",
       "      <td>nm0545352</td>\n",
       "      <td>Georges Marchal</td>\n",
       "    </tr>\n",
       "    <tr>\n",
       "      <th>50823</th>\n",
       "      <td>tt0049521</td>\n",
       "      <td>nm0889024</td>\n",
       "      <td>Charles Vanel</td>\n",
       "    </tr>\n",
       "    <tr>\n",
       "      <th>50824</th>\n",
       "      <td>tt2186669</td>\n",
       "      <td>nm1597002</td>\n",
       "      <td>Nadia El Gendy</td>\n",
       "    </tr>\n",
       "    <tr>\n",
       "      <th>50825</th>\n",
       "      <td>tt2186669</td>\n",
       "      <td>nm1158284</td>\n",
       "      <td>Farouk Al-Fishawy</td>\n",
       "    </tr>\n",
       "    <tr>\n",
       "      <th>50826</th>\n",
       "      <td>tt2186669</td>\n",
       "      <td>nm1235454</td>\n",
       "      <td>Mohamed Reyad</td>\n",
       "    </tr>\n",
       "  </tbody>\n",
       "</table>\n",
       "<p>50827 rows × 3 columns</p>\n",
       "</div>"
      ],
      "text/plain": [
       "          imdbID imdbActorID          ActorName\n",
       "0      tt0142688   nm0000136        Johnny Depp\n",
       "1      tt0142688   nm0001449     Frank Langella\n",
       "2      tt0142688   nm0000565          Lena Olin\n",
       "3      tt0375880   nm1333687            Dhanush\n",
       "4      tt0375880   nm1419300      Sonia Agarwal\n",
       "...          ...         ...                ...\n",
       "50822  tt0049521   nm0545352    Georges Marchal\n",
       "50823  tt0049521   nm0889024      Charles Vanel\n",
       "50824  tt2186669   nm1597002     Nadia El Gendy\n",
       "50825  tt2186669   nm1158284  Farouk Al-Fishawy\n",
       "50826  tt2186669   nm1235454      Mohamed Reyad\n",
       "\n",
       "[50827 rows x 3 columns]"
      ]
     },
     "execution_count": 500,
     "metadata": {},
     "output_type": "execute_result"
    }
   ],
   "source": [
    "actors_df = pd.DataFrame(actors, columns=[\"imdbID\", \"imdbActorID\", \"ActorName\"])\n",
    "actors_df"
   ]
  },
  {
   "cell_type": "code",
   "execution_count": 501,
   "id": "4185a638",
   "metadata": {},
   "outputs": [],
   "source": [
    "# Export as CSV\n",
    "actors_df.to_csv(\"./Week_9_Final/Files/imdb_actors.csv\", index=False)"
   ]
  },
  {
   "cell_type": "markdown",
   "id": "0cc1238e",
   "metadata": {},
   "source": [
    "### Run TMDb API for Actors"
   ]
  },
  {
   "cell_type": "code",
   "execution_count": 508,
   "id": "6a75fce8",
   "metadata": {},
   "outputs": [],
   "source": [
    "# Function to request actor details for each external IMDb ID\n",
    "def tmdb_api_actors(actors):\n",
    "    details = {}\n",
    "    querystring = {\n",
    "        \"api_key\": tmdb_api_key,\n",
    "        \"language\": \"en-US\",\n",
    "        \"external_source\": \"imdb_id\"\n",
    "        }\n",
    "\n",
    "    for actor in tqdm(actors):\n",
    "        url = f\"https://api.themoviedb.org/3/find/{actor[1]}\"\n",
    "        response = requests.request(\n",
    "            \"GET\", url, params=querystring)\n",
    "        details[actor[1]] = response.json()\n",
    "\n",
    "    return details"
   ]
  },
  {
   "cell_type": "code",
   "execution_count": 510,
   "id": "16e37554",
   "metadata": {},
   "outputs": [
    {
     "data": {
      "application/vnd.jupyter.widget-view+json": {
       "model_id": "8ed10b0ac65349e68d7c85c07fdcecec",
       "version_major": 2,
       "version_minor": 0
      },
      "text/plain": [
       "  0%|          | 0/50827 [00:00<?, ?it/s]"
      ]
     },
     "metadata": {},
     "output_type": "display_data"
    }
   ],
   "source": [
    "tmdb_actors = tmdb_api_actors(actors)\n",
    "\n",
    "# Save as JSON\n",
    "with open(\"./Week_9_Final/Files/tmdb_actors.json\", \"w\") as fp:\n",
    "    json.dump(tmdb_actors, fp)"
   ]
  }
 ],
 "metadata": {
  "kernelspec": {
   "display_name": "Python 3",
   "language": "python",
   "name": "python3"
  },
  "language_info": {
   "codemirror_mode": {
    "name": "ipython",
    "version": 3
   },
   "file_extension": ".py",
   "mimetype": "text/x-python",
   "name": "python",
   "nbconvert_exporter": "python",
   "pygments_lexer": "ipython3",
   "version": "3.8.8"
  },
  "toc": {
   "base_numbering": 1,
   "nav_menu": {},
   "number_sections": true,
   "sideBar": true,
   "skip_h1_title": false,
   "title_cell": "Table of Contents",
   "title_sidebar": "Contents",
   "toc_cell": false,
   "toc_position": {},
   "toc_section_display": true,
   "toc_window_display": false
  },
  "varInspector": {
   "cols": {
    "lenName": 16,
    "lenType": 16,
    "lenVar": 40
   },
   "kernels_config": {
    "python": {
     "delete_cmd_postfix": "",
     "delete_cmd_prefix": "del ",
     "library": "var_list.py",
     "varRefreshCmd": "print(var_dic_list())"
    },
    "r": {
     "delete_cmd_postfix": ") ",
     "delete_cmd_prefix": "rm(",
     "library": "var_list.r",
     "varRefreshCmd": "cat(var_dic_list()) "
    }
   },
   "position": {
    "height": "414px",
    "left": "1067px",
    "right": "20px",
    "top": "120px",
    "width": "353px"
   },
   "types_to_exclude": [
    "module",
    "function",
    "builtin_function_or_method",
    "instance",
    "_Feature"
   ],
   "window_display": false
  }
 },
 "nbformat": 4,
 "nbformat_minor": 5
}
