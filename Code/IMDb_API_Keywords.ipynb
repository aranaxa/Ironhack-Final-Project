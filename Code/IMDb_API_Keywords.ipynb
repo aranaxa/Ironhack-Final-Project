{
 "cells": [
  {
   "cell_type": "markdown",
   "id": "804c8f6e",
   "metadata": {},
   "source": [
    "# Libraries"
   ]
  },
  {
   "cell_type": "code",
   "execution_count": 1,
   "id": "09ea5d29",
   "metadata": {},
   "outputs": [],
   "source": [
    "# General\n",
    "import requests\n",
    "from tqdm.notebook import tqdm\n",
    "\n",
    "# APIs\n",
    "import getpass\n",
    "import csv\n",
    "import json"
   ]
  },
  {
   "cell_type": "markdown",
   "id": "46e8f8d5",
   "metadata": {},
   "source": [
    "# IMDb API"
   ]
  },
  {
   "cell_type": "code",
   "execution_count": 2,
   "id": "d309ad36",
   "metadata": {},
   "outputs": [
    {
     "data": {
      "text/plain": [
       "['tt0142688', 'tt0375880', 'tt0016654', 'tt0114924', 'tt0018192']"
      ]
     },
     "execution_count": 2,
     "metadata": {},
     "output_type": "execute_result"
    }
   ],
   "source": [
    "# Import IMDb movie IDs (filtered for independent movies)\n",
    "with open(\"../Files/imdb_ids_filtered.csv\", newline=\"\") as f:\n",
    "    reader = csv.reader(f)\n",
    "    ls = list(reader)\n",
    "    imdb_ids_filtered = [item for items in ls for item in items]\n",
    "\n",
    "imdb_ids_filtered[:5]"
   ]
  },
  {
   "cell_type": "code",
   "execution_count": 3,
   "id": "7d6429aa",
   "metadata": {},
   "outputs": [
    {
     "data": {
      "text/plain": [
       "17153"
      ]
     },
     "execution_count": 3,
     "metadata": {},
     "output_type": "execute_result"
    }
   ],
   "source": [
    "len(imdb_ids_filtered)"
   ]
  },
  {
   "cell_type": "code",
   "execution_count": 4,
   "id": "3f3055a2",
   "metadata": {},
   "outputs": [
    {
     "name": "stdout",
     "output_type": "stream",
     "text": [
      "X-RapidAPI-Key: ········\n"
     ]
    }
   ],
   "source": [
    "# Store API keys\n",
    "rapidapi_key = str(getpass.getpass(\"X-RapidAPI-Key: \"))"
   ]
  },
  {
   "cell_type": "code",
   "execution_count": 5,
   "id": "3b5a6f3d",
   "metadata": {},
   "outputs": [],
   "source": [
    "# Function to request details for each external IMDb ID\n",
    "def imdb_api_keywords(imdb_ids_filtered):\n",
    "    details = {}\n",
    "    headers = {\n",
    "        \"x-rapidapi-key\": rapidapi_key,\n",
    "        \"x-rapidapi-host\": \"data-imdb1.p.rapidapi.com\"\n",
    "        }\n",
    "\n",
    "    for id in tqdm(imdb_ids_filtered):\n",
    "        url = f\"https://data-imdb1.p.rapidapi.com/movie/id/{id}/keywords/\"\n",
    "        response = requests.request(\"GET\", url, headers=headers)\n",
    "        details[id] = response.json()\n",
    "\n",
    "    return details"
   ]
  },
  {
   "cell_type": "code",
   "execution_count": null,
   "id": "1048f4c4",
   "metadata": {},
   "outputs": [],
   "source": [
    "imdb_keywords = imdb_api_keywords(imdb_ids_filtered)\n",
    "\n",
    "# Save as JSON\n",
    "with open(\"../Files/imdb_keywords.json\", \"w\") as fp:\n",
    "    json.dump(imdb_keywords, fp)\n",
    "\n",
    "#imdb_keywords"
   ]
  }
 ],
 "metadata": {
  "kernelspec": {
   "display_name": "Python 3",
   "language": "python",
   "name": "python3"
  },
  "language_info": {
   "codemirror_mode": {
    "name": "ipython",
    "version": 3
   },
   "file_extension": ".py",
   "mimetype": "text/x-python",
   "name": "python",
   "nbconvert_exporter": "python",
   "pygments_lexer": "ipython3",
   "version": "3.8.8"
  },
  "toc": {
   "base_numbering": 1,
   "nav_menu": {},
   "number_sections": true,
   "sideBar": true,
   "skip_h1_title": false,
   "title_cell": "Table of Contents",
   "title_sidebar": "Contents",
   "toc_cell": false,
   "toc_position": {},
   "toc_section_display": true,
   "toc_window_display": false
  },
  "varInspector": {
   "cols": {
    "lenName": 16,
    "lenType": 16,
    "lenVar": 40
   },
   "kernels_config": {
    "python": {
     "delete_cmd_postfix": "",
     "delete_cmd_prefix": "del ",
     "library": "var_list.py",
     "varRefreshCmd": "print(var_dic_list())"
    },
    "r": {
     "delete_cmd_postfix": ") ",
     "delete_cmd_prefix": "rm(",
     "library": "var_list.r",
     "varRefreshCmd": "cat(var_dic_list()) "
    }
   },
   "types_to_exclude": [
    "module",
    "function",
    "builtin_function_or_method",
    "instance",
    "_Feature"
   ],
   "window_display": false
  }
 },
 "nbformat": 4,
 "nbformat_minor": 5
}
