{
 "cells": [
  {
   "cell_type": "markdown",
   "id": "7d304015",
   "metadata": {},
   "source": [
    "# Libraries"
   ]
  },
  {
   "cell_type": "code",
   "execution_count": 1,
   "id": "662ccac7",
   "metadata": {},
   "outputs": [],
   "source": [
    "# General\n",
    "import requests\n",
    "from tqdm.notebook import tqdm\n",
    "\n",
    "# APIs\n",
    "import getpass\n",
    "import csv\n",
    "import json"
   ]
  },
  {
   "cell_type": "markdown",
   "id": "dc020c57",
   "metadata": {},
   "source": [
    "# TMDb API"
   ]
  },
  {
   "cell_type": "code",
   "execution_count": 2,
   "id": "ff38cd2b",
   "metadata": {},
   "outputs": [
    {
     "data": {
      "text/plain": [
       "['622', '69533', '50075', '2064', '42536']"
      ]
     },
     "execution_count": 2,
     "metadata": {},
     "output_type": "execute_result"
    }
   ],
   "source": [
    "# Import TMDb movie IDs (filtered for independent movies)\n",
    "with open(\"../Files/tmdb_ids_filtered.csv\", newline=\"\") as f:\n",
    "    reader = csv.reader(f)\n",
    "    ls = list(reader)\n",
    "    tmdb_ids_filtered = [item for items in ls for item in items]\n",
    "\n",
    "tmdb_ids_filtered[:5]"
   ]
  },
  {
   "cell_type": "code",
   "execution_count": 3,
   "id": "21a1622c",
   "metadata": {},
   "outputs": [
    {
     "name": "stdout",
     "output_type": "stream",
     "text": [
      "API Key: ········\n"
     ]
    }
   ],
   "source": [
    "# Store API key\n",
    "tmdb_api_key = str(getpass.getpass(\"API Key: \"))"
   ]
  },
  {
   "cell_type": "code",
   "execution_count": 4,
   "id": "6718f722",
   "metadata": {},
   "outputs": [],
   "source": [
    "# Function to request keywords for each TMDb ID\n",
    "def tmdb_api_keywords(tmdb_ids_filtered):\n",
    "    details = []\n",
    "    querystring = {\n",
    "        \"api_key\": tmdb_api_key,\n",
    "        \"language\": \"en-US\",\n",
    "        \"external_source\": \"imdb_id\"\n",
    "        }\n",
    "\n",
    "    for id in tqdm(tmdb_ids_filtered):\n",
    "        url = f\"https://api.themoviedb.org/3/movie/{id}/keywords\"\n",
    "        response = requests.request(\n",
    "            \"GET\", url, params=querystring)\n",
    "        details.append(response.json())\n",
    "\n",
    "    return details"
   ]
  },
  {
   "cell_type": "code",
   "execution_count": null,
   "id": "4eac5eb9",
   "metadata": {},
   "outputs": [],
   "source": [
    "tmdb_keywords = tmdb_api_keywords(tmdb_ids_filtered)\n",
    "\n",
    "# Save as JSON\n",
    "with open(\"./Week_9_Final/Files/tmdb_keywords.json\", \"w\") as fp:\n",
    "    json.dump(tmdb_keywords, fp)"
   ]
  }
 ],
 "metadata": {
  "kernelspec": {
   "display_name": "Python 3",
   "language": "python",
   "name": "python3"
  },
  "language_info": {
   "codemirror_mode": {
    "name": "ipython",
    "version": 3
   },
   "file_extension": ".py",
   "mimetype": "text/x-python",
   "name": "python",
   "nbconvert_exporter": "python",
   "pygments_lexer": "ipython3",
   "version": "3.8.8"
  },
  "toc": {
   "base_numbering": 1,
   "nav_menu": {},
   "number_sections": true,
   "sideBar": true,
   "skip_h1_title": false,
   "title_cell": "Table of Contents",
   "title_sidebar": "Contents",
   "toc_cell": false,
   "toc_position": {},
   "toc_section_display": true,
   "toc_window_display": false
  },
  "varInspector": {
   "cols": {
    "lenName": 16,
    "lenType": 16,
    "lenVar": 40
   },
   "kernels_config": {
    "python": {
     "delete_cmd_postfix": "",
     "delete_cmd_prefix": "del ",
     "library": "var_list.py",
     "varRefreshCmd": "print(var_dic_list())"
    },
    "r": {
     "delete_cmd_postfix": ") ",
     "delete_cmd_prefix": "rm(",
     "library": "var_list.r",
     "varRefreshCmd": "cat(var_dic_list()) "
    }
   },
   "types_to_exclude": [
    "module",
    "function",
    "builtin_function_or_method",
    "instance",
    "_Feature"
   ],
   "window_display": false
  }
 },
 "nbformat": 4,
 "nbformat_minor": 5
}
