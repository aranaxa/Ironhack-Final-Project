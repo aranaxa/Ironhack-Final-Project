{
 "cells": [
  {
   "cell_type": "markdown",
   "id": "b0cecb0c",
   "metadata": {},
   "source": [
    "# Import Libraries"
   ]
  },
  {
   "cell_type": "code",
   "execution_count": 142,
   "id": "2dd4f237",
   "metadata": {},
   "outputs": [],
   "source": [
    "# General\n",
    "import requests\n",
    "from tqdm.notebook import tqdm\n",
    "\n",
    "# Web scraping\n",
    "from bs4 import BeautifulSoup\n",
    "from time import sleep\n",
    "from random import randint\n",
    "import csv"
   ]
  },
  {
   "cell_type": "markdown",
   "id": "3df3f31f",
   "metadata": {},
   "source": [
    "# IMDb Web Scraping"
   ]
  },
  {
   "cell_type": "code",
   "execution_count": 2,
   "id": "3c429c81",
   "metadata": {},
   "outputs": [],
   "source": [
    "# Test IMDB\n",
    "url_imdb = \"https://www.imdb.com/search/title/?title_type=feature&release_date=,2021-06-30&user_rating=6.0,&num_votes=1000,\"\n",
    "\n",
    "# Search includes 21,993 movie titles"
   ]
  },
  {
   "cell_type": "code",
   "execution_count": 3,
   "id": "c9481be5",
   "metadata": {},
   "outputs": [
    {
     "data": {
      "text/plain": [
       "200"
      ]
     },
     "execution_count": 3,
     "metadata": {},
     "output_type": "execute_result"
    }
   ],
   "source": [
    "# Download HTML and check response code \n",
    "response_imdb = requests.get(url_imdb)\n",
    "response_imdb.status_code"
   ]
  },
  {
   "cell_type": "code",
   "execution_count": 4,
   "id": "602cb849",
   "metadata": {},
   "outputs": [],
   "source": [
    "# IMDb's URL structure changes for lists including more than 10,000 titles\n",
    "# 'start=10001' does not work, changes to random string, e.g. 'after=WzI5MDQ5LCJ0dDAwNjcwNDAiLDEwNzUxXQ%3D%3D'\n",
    "# Avoid problem by splitting into three searches\n",
    "\n",
    "# Define iterations per search\n",
    "# Search 1 (movies released up until 1989-12-31 - includes 7,545 titles)\n",
    "url_1 = \"https://www.imdb.com/search/title/?title_type=feature&release_date=,1989-12-31&user_rating=6.0,&num_votes=1000,&count=250&start=\"\n",
    "iterations_1 = range(1, 7438, 250)\n",
    "\n",
    "# Search 2 (movies released between 1990-01-01 and 2009-12-31 - includes 7,380 titles)\n",
    "url_2 = \"https://www.imdb.com/search/title/?title_type=feature&release_date=1990-01-01,2009-12-31&user_rating=6.0,&num_votes=1000,&count=250&start=\"\n",
    "iterations_2 = range(1, 7373, 250)\n",
    "\n",
    "# Search 3 (movies released between 2010-01-01 and 2021-06-30 - includes 7,159 titles)\n",
    "url_3 = \"https://www.imdb.com/search/title/?title_type=feature&release_date=2010-01-01,2021-06-30&user_rating=6.0,&num_votes=1000,&count=250&start=\"\n",
    "iterations_3 = range(1, 7144, 250)"
   ]
  },
  {
   "cell_type": "code",
   "execution_count": 5,
   "id": "d1551450",
   "metadata": {},
   "outputs": [
    {
     "name": "stdout",
     "output_type": "stream",
     "text": [
      "https://www.imdb.com/search/title/?title_type=feature&release_date=,1989-12-31&user_rating=6.0,&num_votes=1000,&count=250&start=1\n",
      "https://www.imdb.com/search/title/?title_type=feature&release_date=,1989-12-31&user_rating=6.0,&num_votes=1000,&count=250&start=251\n",
      "https://www.imdb.com/search/title/?title_type=feature&release_date=,1989-12-31&user_rating=6.0,&num_votes=1000,&count=250&start=501\n",
      "https://www.imdb.com/search/title/?title_type=feature&release_date=,1989-12-31&user_rating=6.0,&num_votes=1000,&count=250&start=751\n",
      "https://www.imdb.com/search/title/?title_type=feature&release_date=,1989-12-31&user_rating=6.0,&num_votes=1000,&count=250&start=1001\n",
      "https://www.imdb.com/search/title/?title_type=feature&release_date=,1989-12-31&user_rating=6.0,&num_votes=1000,&count=250&start=1251\n",
      "https://www.imdb.com/search/title/?title_type=feature&release_date=,1989-12-31&user_rating=6.0,&num_votes=1000,&count=250&start=1501\n",
      "https://www.imdb.com/search/title/?title_type=feature&release_date=,1989-12-31&user_rating=6.0,&num_votes=1000,&count=250&start=1751\n",
      "https://www.imdb.com/search/title/?title_type=feature&release_date=,1989-12-31&user_rating=6.0,&num_votes=1000,&count=250&start=2001\n",
      "https://www.imdb.com/search/title/?title_type=feature&release_date=,1989-12-31&user_rating=6.0,&num_votes=1000,&count=250&start=2251\n",
      "https://www.imdb.com/search/title/?title_type=feature&release_date=,1989-12-31&user_rating=6.0,&num_votes=1000,&count=250&start=2501\n",
      "https://www.imdb.com/search/title/?title_type=feature&release_date=,1989-12-31&user_rating=6.0,&num_votes=1000,&count=250&start=2751\n",
      "https://www.imdb.com/search/title/?title_type=feature&release_date=,1989-12-31&user_rating=6.0,&num_votes=1000,&count=250&start=3001\n",
      "https://www.imdb.com/search/title/?title_type=feature&release_date=,1989-12-31&user_rating=6.0,&num_votes=1000,&count=250&start=3251\n",
      "https://www.imdb.com/search/title/?title_type=feature&release_date=,1989-12-31&user_rating=6.0,&num_votes=1000,&count=250&start=3501\n",
      "https://www.imdb.com/search/title/?title_type=feature&release_date=,1989-12-31&user_rating=6.0,&num_votes=1000,&count=250&start=3751\n",
      "https://www.imdb.com/search/title/?title_type=feature&release_date=,1989-12-31&user_rating=6.0,&num_votes=1000,&count=250&start=4001\n",
      "https://www.imdb.com/search/title/?title_type=feature&release_date=,1989-12-31&user_rating=6.0,&num_votes=1000,&count=250&start=4251\n",
      "https://www.imdb.com/search/title/?title_type=feature&release_date=,1989-12-31&user_rating=6.0,&num_votes=1000,&count=250&start=4501\n",
      "https://www.imdb.com/search/title/?title_type=feature&release_date=,1989-12-31&user_rating=6.0,&num_votes=1000,&count=250&start=4751\n",
      "https://www.imdb.com/search/title/?title_type=feature&release_date=,1989-12-31&user_rating=6.0,&num_votes=1000,&count=250&start=5001\n",
      "https://www.imdb.com/search/title/?title_type=feature&release_date=,1989-12-31&user_rating=6.0,&num_votes=1000,&count=250&start=5251\n",
      "https://www.imdb.com/search/title/?title_type=feature&release_date=,1989-12-31&user_rating=6.0,&num_votes=1000,&count=250&start=5501\n",
      "https://www.imdb.com/search/title/?title_type=feature&release_date=,1989-12-31&user_rating=6.0,&num_votes=1000,&count=250&start=5751\n",
      "https://www.imdb.com/search/title/?title_type=feature&release_date=,1989-12-31&user_rating=6.0,&num_votes=1000,&count=250&start=6001\n",
      "https://www.imdb.com/search/title/?title_type=feature&release_date=,1989-12-31&user_rating=6.0,&num_votes=1000,&count=250&start=6251\n",
      "https://www.imdb.com/search/title/?title_type=feature&release_date=,1989-12-31&user_rating=6.0,&num_votes=1000,&count=250&start=6501\n",
      "https://www.imdb.com/search/title/?title_type=feature&release_date=,1989-12-31&user_rating=6.0,&num_votes=1000,&count=250&start=6751\n",
      "https://www.imdb.com/search/title/?title_type=feature&release_date=,1989-12-31&user_rating=6.0,&num_votes=1000,&count=250&start=7001\n",
      "https://www.imdb.com/search/title/?title_type=feature&release_date=,1989-12-31&user_rating=6.0,&num_votes=1000,&count=250&start=7251\n",
      "https://www.imdb.com/search/title/?title_type=feature&release_date=1990-01-01,2009-12-31&user_rating=6.0,&num_votes=1000,&count=250&start=1\n",
      "https://www.imdb.com/search/title/?title_type=feature&release_date=1990-01-01,2009-12-31&user_rating=6.0,&num_votes=1000,&count=250&start=251\n",
      "https://www.imdb.com/search/title/?title_type=feature&release_date=1990-01-01,2009-12-31&user_rating=6.0,&num_votes=1000,&count=250&start=501\n",
      "https://www.imdb.com/search/title/?title_type=feature&release_date=1990-01-01,2009-12-31&user_rating=6.0,&num_votes=1000,&count=250&start=751\n",
      "https://www.imdb.com/search/title/?title_type=feature&release_date=1990-01-01,2009-12-31&user_rating=6.0,&num_votes=1000,&count=250&start=1001\n",
      "https://www.imdb.com/search/title/?title_type=feature&release_date=1990-01-01,2009-12-31&user_rating=6.0,&num_votes=1000,&count=250&start=1251\n",
      "https://www.imdb.com/search/title/?title_type=feature&release_date=1990-01-01,2009-12-31&user_rating=6.0,&num_votes=1000,&count=250&start=1501\n",
      "https://www.imdb.com/search/title/?title_type=feature&release_date=1990-01-01,2009-12-31&user_rating=6.0,&num_votes=1000,&count=250&start=1751\n",
      "https://www.imdb.com/search/title/?title_type=feature&release_date=1990-01-01,2009-12-31&user_rating=6.0,&num_votes=1000,&count=250&start=2001\n",
      "https://www.imdb.com/search/title/?title_type=feature&release_date=1990-01-01,2009-12-31&user_rating=6.0,&num_votes=1000,&count=250&start=2251\n",
      "https://www.imdb.com/search/title/?title_type=feature&release_date=1990-01-01,2009-12-31&user_rating=6.0,&num_votes=1000,&count=250&start=2501\n",
      "https://www.imdb.com/search/title/?title_type=feature&release_date=1990-01-01,2009-12-31&user_rating=6.0,&num_votes=1000,&count=250&start=2751\n",
      "https://www.imdb.com/search/title/?title_type=feature&release_date=1990-01-01,2009-12-31&user_rating=6.0,&num_votes=1000,&count=250&start=3001\n",
      "https://www.imdb.com/search/title/?title_type=feature&release_date=1990-01-01,2009-12-31&user_rating=6.0,&num_votes=1000,&count=250&start=3251\n",
      "https://www.imdb.com/search/title/?title_type=feature&release_date=1990-01-01,2009-12-31&user_rating=6.0,&num_votes=1000,&count=250&start=3501\n",
      "https://www.imdb.com/search/title/?title_type=feature&release_date=1990-01-01,2009-12-31&user_rating=6.0,&num_votes=1000,&count=250&start=3751\n",
      "https://www.imdb.com/search/title/?title_type=feature&release_date=1990-01-01,2009-12-31&user_rating=6.0,&num_votes=1000,&count=250&start=4001\n",
      "https://www.imdb.com/search/title/?title_type=feature&release_date=1990-01-01,2009-12-31&user_rating=6.0,&num_votes=1000,&count=250&start=4251\n",
      "https://www.imdb.com/search/title/?title_type=feature&release_date=1990-01-01,2009-12-31&user_rating=6.0,&num_votes=1000,&count=250&start=4501\n",
      "https://www.imdb.com/search/title/?title_type=feature&release_date=1990-01-01,2009-12-31&user_rating=6.0,&num_votes=1000,&count=250&start=4751\n",
      "https://www.imdb.com/search/title/?title_type=feature&release_date=1990-01-01,2009-12-31&user_rating=6.0,&num_votes=1000,&count=250&start=5001\n",
      "https://www.imdb.com/search/title/?title_type=feature&release_date=1990-01-01,2009-12-31&user_rating=6.0,&num_votes=1000,&count=250&start=5251\n",
      "https://www.imdb.com/search/title/?title_type=feature&release_date=1990-01-01,2009-12-31&user_rating=6.0,&num_votes=1000,&count=250&start=5501\n",
      "https://www.imdb.com/search/title/?title_type=feature&release_date=1990-01-01,2009-12-31&user_rating=6.0,&num_votes=1000,&count=250&start=5751\n",
      "https://www.imdb.com/search/title/?title_type=feature&release_date=1990-01-01,2009-12-31&user_rating=6.0,&num_votes=1000,&count=250&start=6001\n",
      "https://www.imdb.com/search/title/?title_type=feature&release_date=1990-01-01,2009-12-31&user_rating=6.0,&num_votes=1000,&count=250&start=6251\n",
      "https://www.imdb.com/search/title/?title_type=feature&release_date=1990-01-01,2009-12-31&user_rating=6.0,&num_votes=1000,&count=250&start=6501\n",
      "https://www.imdb.com/search/title/?title_type=feature&release_date=1990-01-01,2009-12-31&user_rating=6.0,&num_votes=1000,&count=250&start=6751\n",
      "https://www.imdb.com/search/title/?title_type=feature&release_date=1990-01-01,2009-12-31&user_rating=6.0,&num_votes=1000,&count=250&start=7001\n",
      "https://www.imdb.com/search/title/?title_type=feature&release_date=1990-01-01,2009-12-31&user_rating=6.0,&num_votes=1000,&count=250&start=7251\n",
      "https://www.imdb.com/search/title/?title_type=feature&release_date=2010-01-01,2021-06-30&user_rating=6.0,&num_votes=1000,&count=250&start=1\n",
      "https://www.imdb.com/search/title/?title_type=feature&release_date=2010-01-01,2021-06-30&user_rating=6.0,&num_votes=1000,&count=250&start=251\n",
      "https://www.imdb.com/search/title/?title_type=feature&release_date=2010-01-01,2021-06-30&user_rating=6.0,&num_votes=1000,&count=250&start=501\n",
      "https://www.imdb.com/search/title/?title_type=feature&release_date=2010-01-01,2021-06-30&user_rating=6.0,&num_votes=1000,&count=250&start=751\n",
      "https://www.imdb.com/search/title/?title_type=feature&release_date=2010-01-01,2021-06-30&user_rating=6.0,&num_votes=1000,&count=250&start=1001\n",
      "https://www.imdb.com/search/title/?title_type=feature&release_date=2010-01-01,2021-06-30&user_rating=6.0,&num_votes=1000,&count=250&start=1251\n",
      "https://www.imdb.com/search/title/?title_type=feature&release_date=2010-01-01,2021-06-30&user_rating=6.0,&num_votes=1000,&count=250&start=1501\n",
      "https://www.imdb.com/search/title/?title_type=feature&release_date=2010-01-01,2021-06-30&user_rating=6.0,&num_votes=1000,&count=250&start=1751\n",
      "https://www.imdb.com/search/title/?title_type=feature&release_date=2010-01-01,2021-06-30&user_rating=6.0,&num_votes=1000,&count=250&start=2001\n",
      "https://www.imdb.com/search/title/?title_type=feature&release_date=2010-01-01,2021-06-30&user_rating=6.0,&num_votes=1000,&count=250&start=2251\n",
      "https://www.imdb.com/search/title/?title_type=feature&release_date=2010-01-01,2021-06-30&user_rating=6.0,&num_votes=1000,&count=250&start=2501\n",
      "https://www.imdb.com/search/title/?title_type=feature&release_date=2010-01-01,2021-06-30&user_rating=6.0,&num_votes=1000,&count=250&start=2751\n",
      "https://www.imdb.com/search/title/?title_type=feature&release_date=2010-01-01,2021-06-30&user_rating=6.0,&num_votes=1000,&count=250&start=3001\n",
      "https://www.imdb.com/search/title/?title_type=feature&release_date=2010-01-01,2021-06-30&user_rating=6.0,&num_votes=1000,&count=250&start=3251\n",
      "https://www.imdb.com/search/title/?title_type=feature&release_date=2010-01-01,2021-06-30&user_rating=6.0,&num_votes=1000,&count=250&start=3501\n",
      "https://www.imdb.com/search/title/?title_type=feature&release_date=2010-01-01,2021-06-30&user_rating=6.0,&num_votes=1000,&count=250&start=3751\n",
      "https://www.imdb.com/search/title/?title_type=feature&release_date=2010-01-01,2021-06-30&user_rating=6.0,&num_votes=1000,&count=250&start=4001\n",
      "https://www.imdb.com/search/title/?title_type=feature&release_date=2010-01-01,2021-06-30&user_rating=6.0,&num_votes=1000,&count=250&start=4251\n",
      "https://www.imdb.com/search/title/?title_type=feature&release_date=2010-01-01,2021-06-30&user_rating=6.0,&num_votes=1000,&count=250&start=4501\n",
      "https://www.imdb.com/search/title/?title_type=feature&release_date=2010-01-01,2021-06-30&user_rating=6.0,&num_votes=1000,&count=250&start=4751\n",
      "https://www.imdb.com/search/title/?title_type=feature&release_date=2010-01-01,2021-06-30&user_rating=6.0,&num_votes=1000,&count=250&start=5001\n",
      "https://www.imdb.com/search/title/?title_type=feature&release_date=2010-01-01,2021-06-30&user_rating=6.0,&num_votes=1000,&count=250&start=5251\n",
      "https://www.imdb.com/search/title/?title_type=feature&release_date=2010-01-01,2021-06-30&user_rating=6.0,&num_votes=1000,&count=250&start=5501\n",
      "https://www.imdb.com/search/title/?title_type=feature&release_date=2010-01-01,2021-06-30&user_rating=6.0,&num_votes=1000,&count=250&start=5751\n",
      "https://www.imdb.com/search/title/?title_type=feature&release_date=2010-01-01,2021-06-30&user_rating=6.0,&num_votes=1000,&count=250&start=6001\n",
      "https://www.imdb.com/search/title/?title_type=feature&release_date=2010-01-01,2021-06-30&user_rating=6.0,&num_votes=1000,&count=250&start=6251\n",
      "https://www.imdb.com/search/title/?title_type=feature&release_date=2010-01-01,2021-06-30&user_rating=6.0,&num_votes=1000,&count=250&start=6501\n",
      "https://www.imdb.com/search/title/?title_type=feature&release_date=2010-01-01,2021-06-30&user_rating=6.0,&num_votes=1000,&count=250&start=6751\n",
      "https://www.imdb.com/search/title/?title_type=feature&release_date=2010-01-01,2021-06-30&user_rating=6.0,&num_votes=1000,&count=250&start=7001\n"
     ]
    }
   ],
   "source": [
    "# Test creating URL string for each page search, populated with iterations\n",
    "# Search 1\n",
    "for i in iterations_1:\n",
    "    start_at = str(i)\n",
    "    urls_1 = url_1 + start_at\n",
    "    print(urls_1)\n",
    "\n",
    "# Search 2\n",
    "for i in iterations_2:\n",
    "    start_at = str(i)\n",
    "    urls_2 = url_2 + start_at\n",
    "    print(urls_2)\n",
    "    \n",
    "# Search 3\n",
    "for i in iterations_3:\n",
    "    start_at = str(i)\n",
    "    urls_3 = url_3 + start_at\n",
    "    print(urls_3)"
   ]
  },
  {
   "cell_type": "markdown",
   "id": "1c58c154",
   "metadata": {},
   "source": [
    "## Assemble URLs per search"
   ]
  },
  {
   "cell_type": "code",
   "execution_count": 6,
   "id": "4941c67a",
   "metadata": {},
   "outputs": [],
   "source": [
    "# Function to scrape each page\n",
    "def scrape(iterations, url):\n",
    "    pages = []\n",
    "    for i in tqdm(iterations):\n",
    "        start_at = str(i)\n",
    "        urls = url + start_at\n",
    "        # Download HTML with get request\n",
    "        response = requests.get(urls)\n",
    "        # Monitor the status code for each page\n",
    "        print(f\"Status: {str(response.status_code)}\")\n",
    "        # Store pages into a list\n",
    "        pages.append(response)\n",
    "        # Respectful nap time\n",
    "        wait_time = randint(2, 5)\n",
    "        print(f\"Wait time: {str(wait_time)} seconds\")\n",
    "        print(\"\")\n",
    "        sleep(wait_time)\n",
    "    return pages"
   ]
  },
  {
   "cell_type": "code",
   "execution_count": 7,
   "id": "88774d39",
   "metadata": {},
   "outputs": [
    {
     "data": {
      "application/vnd.jupyter.widget-view+json": {
       "model_id": "8cd01a85036143a69b0e58c84f82d63b",
       "version_major": 2,
       "version_minor": 0
      },
      "text/plain": [
       "  0%|          | 0/30 [00:00<?, ?it/s]"
      ]
     },
     "metadata": {},
     "output_type": "display_data"
    },
    {
     "name": "stdout",
     "output_type": "stream",
     "text": [
      "Status: 200\n",
      "Wait time: 4 seconds\n",
      "\n",
      "Status: 200\n",
      "Wait time: 4 seconds\n",
      "\n",
      "Status: 200\n",
      "Wait time: 2 seconds\n",
      "\n",
      "Status: 200\n",
      "Wait time: 4 seconds\n",
      "\n",
      "Status: 200\n",
      "Wait time: 5 seconds\n",
      "\n",
      "Status: 200\n",
      "Wait time: 5 seconds\n",
      "\n",
      "Status: 200\n",
      "Wait time: 3 seconds\n",
      "\n",
      "Status: 200\n",
      "Wait time: 5 seconds\n",
      "\n",
      "Status: 200\n",
      "Wait time: 5 seconds\n",
      "\n",
      "Status: 200\n",
      "Wait time: 2 seconds\n",
      "\n",
      "Status: 200\n",
      "Wait time: 2 seconds\n",
      "\n",
      "Status: 200\n",
      "Wait time: 3 seconds\n",
      "\n",
      "Status: 200\n",
      "Wait time: 3 seconds\n",
      "\n",
      "Status: 200\n",
      "Wait time: 4 seconds\n",
      "\n",
      "Status: 200\n",
      "Wait time: 5 seconds\n",
      "\n",
      "Status: 200\n",
      "Wait time: 4 seconds\n",
      "\n",
      "Status: 200\n",
      "Wait time: 2 seconds\n",
      "\n",
      "Status: 200\n",
      "Wait time: 3 seconds\n",
      "\n",
      "Status: 200\n",
      "Wait time: 3 seconds\n",
      "\n",
      "Status: 200\n",
      "Wait time: 4 seconds\n",
      "\n",
      "Status: 200\n",
      "Wait time: 3 seconds\n",
      "\n",
      "Status: 200\n",
      "Wait time: 3 seconds\n",
      "\n",
      "Status: 200\n",
      "Wait time: 4 seconds\n",
      "\n",
      "Status: 200\n",
      "Wait time: 5 seconds\n",
      "\n",
      "Status: 200\n",
      "Wait time: 4 seconds\n",
      "\n",
      "Status: 200\n",
      "Wait time: 3 seconds\n",
      "\n",
      "Status: 200\n",
      "Wait time: 4 seconds\n",
      "\n",
      "Status: 200\n",
      "Wait time: 3 seconds\n",
      "\n",
      "Status: 200\n",
      "Wait time: 3 seconds\n",
      "\n",
      "Status: 200\n",
      "Wait time: 3 seconds\n",
      "\n"
     ]
    }
   ],
   "source": [
    "# Search 1\n",
    "pages_1 = scrape(iterations_1, url_1)"
   ]
  },
  {
   "cell_type": "code",
   "execution_count": 8,
   "id": "96d81654",
   "metadata": {},
   "outputs": [
    {
     "data": {
      "application/vnd.jupyter.widget-view+json": {
       "model_id": "da6ca058b89f485e9b31512e1c3afc19",
       "version_major": 2,
       "version_minor": 0
      },
      "text/plain": [
       "  0%|          | 0/30 [00:00<?, ?it/s]"
      ]
     },
     "metadata": {},
     "output_type": "display_data"
    },
    {
     "name": "stdout",
     "output_type": "stream",
     "text": [
      "Status: 200\n",
      "Wait time: 3 seconds\n",
      "\n",
      "Status: 200\n",
      "Wait time: 2 seconds\n",
      "\n",
      "Status: 200\n",
      "Wait time: 4 seconds\n",
      "\n",
      "Status: 200\n",
      "Wait time: 3 seconds\n",
      "\n",
      "Status: 200\n",
      "Wait time: 4 seconds\n",
      "\n",
      "Status: 200\n",
      "Wait time: 3 seconds\n",
      "\n",
      "Status: 200\n",
      "Wait time: 2 seconds\n",
      "\n",
      "Status: 200\n",
      "Wait time: 4 seconds\n",
      "\n",
      "Status: 200\n",
      "Wait time: 2 seconds\n",
      "\n",
      "Status: 200\n",
      "Wait time: 2 seconds\n",
      "\n",
      "Status: 200\n",
      "Wait time: 5 seconds\n",
      "\n",
      "Status: 200\n",
      "Wait time: 3 seconds\n",
      "\n",
      "Status: 200\n",
      "Wait time: 3 seconds\n",
      "\n",
      "Status: 200\n",
      "Wait time: 3 seconds\n",
      "\n",
      "Status: 200\n",
      "Wait time: 3 seconds\n",
      "\n",
      "Status: 200\n",
      "Wait time: 4 seconds\n",
      "\n",
      "Status: 200\n",
      "Wait time: 5 seconds\n",
      "\n",
      "Status: 200\n",
      "Wait time: 5 seconds\n",
      "\n",
      "Status: 200\n",
      "Wait time: 4 seconds\n",
      "\n",
      "Status: 200\n",
      "Wait time: 2 seconds\n",
      "\n",
      "Status: 200\n",
      "Wait time: 3 seconds\n",
      "\n",
      "Status: 200\n",
      "Wait time: 5 seconds\n",
      "\n",
      "Status: 200\n",
      "Wait time: 3 seconds\n",
      "\n",
      "Status: 200\n",
      "Wait time: 4 seconds\n",
      "\n",
      "Status: 200\n",
      "Wait time: 2 seconds\n",
      "\n",
      "Status: 200\n",
      "Wait time: 3 seconds\n",
      "\n",
      "Status: 200\n",
      "Wait time: 5 seconds\n",
      "\n",
      "Status: 200\n",
      "Wait time: 2 seconds\n",
      "\n",
      "Status: 200\n",
      "Wait time: 3 seconds\n",
      "\n",
      "Status: 200\n",
      "Wait time: 5 seconds\n",
      "\n"
     ]
    }
   ],
   "source": [
    "# Search 2\n",
    "pages_2 = scrape(iterations_2, url_2)"
   ]
  },
  {
   "cell_type": "code",
   "execution_count": 9,
   "id": "6d7ade7a",
   "metadata": {},
   "outputs": [
    {
     "data": {
      "application/vnd.jupyter.widget-view+json": {
       "model_id": "dcf4d8320dbd4b1eab5aa28a8e39c293",
       "version_major": 2,
       "version_minor": 0
      },
      "text/plain": [
       "  0%|          | 0/29 [00:00<?, ?it/s]"
      ]
     },
     "metadata": {},
     "output_type": "display_data"
    },
    {
     "name": "stdout",
     "output_type": "stream",
     "text": [
      "Status: 200\n",
      "Wait time: 5 seconds\n",
      "\n",
      "Status: 200\n",
      "Wait time: 4 seconds\n",
      "\n",
      "Status: 200\n",
      "Wait time: 3 seconds\n",
      "\n",
      "Status: 200\n",
      "Wait time: 3 seconds\n",
      "\n",
      "Status: 200\n",
      "Wait time: 5 seconds\n",
      "\n",
      "Status: 200\n",
      "Wait time: 4 seconds\n",
      "\n",
      "Status: 200\n",
      "Wait time: 4 seconds\n",
      "\n",
      "Status: 200\n",
      "Wait time: 4 seconds\n",
      "\n",
      "Status: 200\n",
      "Wait time: 3 seconds\n",
      "\n",
      "Status: 200\n",
      "Wait time: 2 seconds\n",
      "\n",
      "Status: 200\n",
      "Wait time: 5 seconds\n",
      "\n",
      "Status: 200\n",
      "Wait time: 2 seconds\n",
      "\n",
      "Status: 200\n",
      "Wait time: 2 seconds\n",
      "\n",
      "Status: 200\n",
      "Wait time: 4 seconds\n",
      "\n",
      "Status: 200\n",
      "Wait time: 5 seconds\n",
      "\n",
      "Status: 200\n",
      "Wait time: 5 seconds\n",
      "\n",
      "Status: 200\n",
      "Wait time: 2 seconds\n",
      "\n",
      "Status: 200\n",
      "Wait time: 5 seconds\n",
      "\n",
      "Status: 200\n",
      "Wait time: 5 seconds\n",
      "\n",
      "Status: 200\n",
      "Wait time: 2 seconds\n",
      "\n",
      "Status: 200\n",
      "Wait time: 2 seconds\n",
      "\n",
      "Status: 200\n",
      "Wait time: 5 seconds\n",
      "\n",
      "Status: 200\n",
      "Wait time: 3 seconds\n",
      "\n",
      "Status: 200\n",
      "Wait time: 2 seconds\n",
      "\n",
      "Status: 200\n",
      "Wait time: 5 seconds\n",
      "\n",
      "Status: 200\n",
      "Wait time: 4 seconds\n",
      "\n",
      "Status: 200\n",
      "Wait time: 2 seconds\n",
      "\n",
      "Status: 200\n",
      "Wait time: 2 seconds\n",
      "\n",
      "Status: 200\n",
      "Wait time: 3 seconds\n",
      "\n"
     ]
    }
   ],
   "source": [
    "# Search 3\n",
    "pages_3 = scrape(iterations_3, url_3)"
   ]
  },
  {
   "cell_type": "code",
   "execution_count": 11,
   "id": "9d4f46fc",
   "metadata": {},
   "outputs": [],
   "source": [
    "# Function to store movie IDs\n",
    "def get_ids(pages):\n",
    "    ids = []\n",
    "    pages_parsed = []\n",
    "    # Get HTML for each page\n",
    "    for page in tqdm(range(len(pages))):\n",
    "        pages_parsed.append(BeautifulSoup(pages[page].content, \"html.parser\"))\n",
    "        html = pages_parsed[page].find_all(\"img\")\n",
    "        # Store id for each movie title per page\n",
    "        for title in html:\n",
    "            ids.append(title.get(\"data-tconst\"))\n",
    "    return ids     "
   ]
  },
  {
   "cell_type": "code",
   "execution_count": 12,
   "id": "5e8e6e55",
   "metadata": {},
   "outputs": [
    {
     "data": {
      "application/vnd.jupyter.widget-view+json": {
       "model_id": "6840a105521c41c59f64793a9baf26e7",
       "version_major": 2,
       "version_minor": 0
      },
      "text/plain": [
       "  0%|          | 0/30 [00:00<?, ?it/s]"
      ]
     },
     "metadata": {},
     "output_type": "display_data"
    },
    {
     "data": {
      "text/plain": [
       "7454"
      ]
     },
     "execution_count": 12,
     "metadata": {},
     "output_type": "execute_result"
    }
   ],
   "source": [
    "# Search 1\n",
    "ids_1 = get_ids(pages_1)\n",
    "len(ids_1)"
   ]
  },
  {
   "cell_type": "code",
   "execution_count": 13,
   "id": "bb2970bc",
   "metadata": {},
   "outputs": [
    {
     "data": {
      "application/vnd.jupyter.widget-view+json": {
       "model_id": "1f0229dc2e4f4ee5aad0313e26c377d5",
       "version_major": 2,
       "version_minor": 0
      },
      "text/plain": [
       "  0%|          | 0/30 [00:00<?, ?it/s]"
      ]
     },
     "metadata": {},
     "output_type": "display_data"
    },
    {
     "data": {
      "text/plain": [
       "7380"
      ]
     },
     "execution_count": 13,
     "metadata": {},
     "output_type": "execute_result"
    }
   ],
   "source": [
    "# Search 2\n",
    "ids_2 = get_ids(pages_2)\n",
    "len(ids_2)"
   ]
  },
  {
   "cell_type": "code",
   "execution_count": 14,
   "id": "c9ab8091",
   "metadata": {},
   "outputs": [
    {
     "data": {
      "application/vnd.jupyter.widget-view+json": {
       "model_id": "d21d75b8d7634316849b02f512ee6213",
       "version_major": 2,
       "version_minor": 0
      },
      "text/plain": [
       "  0%|          | 0/29 [00:00<?, ?it/s]"
      ]
     },
     "metadata": {},
     "output_type": "display_data"
    },
    {
     "data": {
      "text/plain": [
       "7159"
      ]
     },
     "execution_count": 14,
     "metadata": {},
     "output_type": "execute_result"
    }
   ],
   "source": [
    "# Search 3\n",
    "ids_3 = get_ids(pages_3)\n",
    "len(ids_3)"
   ]
  },
  {
   "cell_type": "code",
   "execution_count": 18,
   "id": "1f059433",
   "metadata": {},
   "outputs": [],
   "source": [
    "# Combine ids into one list\n",
    "ids = ids_1 + ids_2 + ids_3"
   ]
  },
  {
   "cell_type": "code",
   "execution_count": 19,
   "id": "13dbefa3",
   "metadata": {},
   "outputs": [
    {
     "data": {
      "text/plain": [
       "21993"
      ]
     },
     "execution_count": 19,
     "metadata": {},
     "output_type": "execute_result"
    }
   ],
   "source": [
    "# Convert to set to remove potential duplicates\n",
    "ids = list(set(ids))\n",
    "len(ids)"
   ]
  },
  {
   "cell_type": "code",
   "execution_count": 315,
   "id": "6ff5db80",
   "metadata": {},
   "outputs": [],
   "source": [
    "# Export list to CSV\n",
    "with open(\"imdb_ids.csv\", \"w\", newline=\"\") as file:\n",
    "    writer = csv.writer(file)\n",
    "    writer.writerows(ids)"
   ]
  }
 ],
 "metadata": {
  "kernelspec": {
   "display_name": "Python 3",
   "language": "python",
   "name": "python3"
  },
  "language_info": {
   "codemirror_mode": {
    "name": "ipython",
    "version": 3
   },
   "file_extension": ".py",
   "mimetype": "text/x-python",
   "name": "python",
   "nbconvert_exporter": "python",
   "pygments_lexer": "ipython3",
   "version": "3.8.8"
  },
  "toc": {
   "base_numbering": 1,
   "nav_menu": {},
   "number_sections": true,
   "sideBar": true,
   "skip_h1_title": false,
   "title_cell": "Table of Contents",
   "title_sidebar": "Contents",
   "toc_cell": false,
   "toc_position": {},
   "toc_section_display": true,
   "toc_window_display": false
  },
  "varInspector": {
   "cols": {
    "lenName": 16,
    "lenType": 16,
    "lenVar": 40
   },
   "kernels_config": {
    "python": {
     "delete_cmd_postfix": "",
     "delete_cmd_prefix": "del ",
     "library": "var_list.py",
     "varRefreshCmd": "print(var_dic_list())"
    },
    "r": {
     "delete_cmd_postfix": ") ",
     "delete_cmd_prefix": "rm(",
     "library": "var_list.r",
     "varRefreshCmd": "cat(var_dic_list()) "
    }
   },
   "types_to_exclude": [
    "module",
    "function",
    "builtin_function_or_method",
    "instance",
    "_Feature"
   ],
   "window_display": false
  }
 },
 "nbformat": 4,
 "nbformat_minor": 5
}
